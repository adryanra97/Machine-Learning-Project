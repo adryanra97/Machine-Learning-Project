{
  "nbformat": 4,
  "nbformat_minor": 0,
  "metadata": {
    "colab": {
      "name": "Untitled1.ipynb",
      "provenance": []
    },
    "kernelspec": {
      "name": "python3",
      "display_name": "Python 3"
    }
  },
  "cells": [
    {
      "cell_type": "markdown",
      "metadata": {
        "id": "Y508MxQTFmMu"
      },
      "source": [
        "# Time Series Deep Learning Predicting Stock Price\r\n"
      ]
    },
    {
      "cell_type": "markdown",
      "metadata": {
        "id": "WCDu_kDWFs_f"
      },
      "source": [
        "## In this notebook using the data from kaggle. The data contain the Tesla's Stock Price from 2010 to 2020"
      ]
    },
    {
      "cell_type": "markdown",
      "metadata": {
        "id": "KMrTmyavF2u6"
      },
      "source": [
        "Import all the library needed"
      ]
    },
    {
      "cell_type": "code",
      "metadata": {
        "id": "OQiImPmdxsJY"
      },
      "source": [
        "import numpy as np\r\n",
        "import matplotlib.pyplot as plt\r\n",
        "import seaborn as sns\r\n",
        "import pandas as pd\r\n",
        "from datetime import datetime\r\n",
        "import tensorflow as tf\r\n",
        "from tensorflow import keras\r\n",
        "from tensorflow.keras.models import Sequential\r\n",
        "from tensorflow.keras.layers import Dense, SimpleRNN, LSTM, Activation, Dropout\r\n",
        "import math\r\n",
        "from sklearn.preprocessing import MinMaxScaler\r\n",
        "from sklearn.metrics import mean_squared_error"
      ],
      "execution_count": 26,
      "outputs": []
    },
    {
      "cell_type": "markdown",
      "metadata": {
        "id": "4oKJ-uAnF5ov"
      },
      "source": [
        "Import the Data and look at the first 5 row"
      ]
    },
    {
      "cell_type": "code",
      "metadata": {
        "colab": {
          "base_uri": "https://localhost:8080/",
          "height": 202
        },
        "id": "lxKOrtelzz_6",
        "outputId": "c4cee390-b312-4a11-ea9e-4aae0e9e65ba"
      },
      "source": [
        "data=pd.read_csv('/content/TSLA.csv')\r\n",
        "data.head()"
      ],
      "execution_count": 27,
      "outputs": [
        {
          "output_type": "execute_result",
          "data": {
            "text/html": [
              "<div>\n",
              "<style scoped>\n",
              "    .dataframe tbody tr th:only-of-type {\n",
              "        vertical-align: middle;\n",
              "    }\n",
              "\n",
              "    .dataframe tbody tr th {\n",
              "        vertical-align: top;\n",
              "    }\n",
              "\n",
              "    .dataframe thead th {\n",
              "        text-align: right;\n",
              "    }\n",
              "</style>\n",
              "<table border=\"1\" class=\"dataframe\">\n",
              "  <thead>\n",
              "    <tr style=\"text-align: right;\">\n",
              "      <th></th>\n",
              "      <th>Date</th>\n",
              "      <th>Open</th>\n",
              "      <th>High</th>\n",
              "      <th>Low</th>\n",
              "      <th>Close</th>\n",
              "      <th>Adj Close</th>\n",
              "      <th>Volume</th>\n",
              "    </tr>\n",
              "  </thead>\n",
              "  <tbody>\n",
              "    <tr>\n",
              "      <th>0</th>\n",
              "      <td>2010-06-29</td>\n",
              "      <td>19.000000</td>\n",
              "      <td>25.00</td>\n",
              "      <td>17.540001</td>\n",
              "      <td>23.889999</td>\n",
              "      <td>23.889999</td>\n",
              "      <td>18766300</td>\n",
              "    </tr>\n",
              "    <tr>\n",
              "      <th>1</th>\n",
              "      <td>2010-06-30</td>\n",
              "      <td>25.790001</td>\n",
              "      <td>30.42</td>\n",
              "      <td>23.299999</td>\n",
              "      <td>23.830000</td>\n",
              "      <td>23.830000</td>\n",
              "      <td>17187100</td>\n",
              "    </tr>\n",
              "    <tr>\n",
              "      <th>2</th>\n",
              "      <td>2010-07-01</td>\n",
              "      <td>25.000000</td>\n",
              "      <td>25.92</td>\n",
              "      <td>20.270000</td>\n",
              "      <td>21.959999</td>\n",
              "      <td>21.959999</td>\n",
              "      <td>8218800</td>\n",
              "    </tr>\n",
              "    <tr>\n",
              "      <th>3</th>\n",
              "      <td>2010-07-02</td>\n",
              "      <td>23.000000</td>\n",
              "      <td>23.10</td>\n",
              "      <td>18.709999</td>\n",
              "      <td>19.200001</td>\n",
              "      <td>19.200001</td>\n",
              "      <td>5139800</td>\n",
              "    </tr>\n",
              "    <tr>\n",
              "      <th>4</th>\n",
              "      <td>2010-07-06</td>\n",
              "      <td>20.000000</td>\n",
              "      <td>20.00</td>\n",
              "      <td>15.830000</td>\n",
              "      <td>16.110001</td>\n",
              "      <td>16.110001</td>\n",
              "      <td>6866900</td>\n",
              "    </tr>\n",
              "  </tbody>\n",
              "</table>\n",
              "</div>"
            ],
            "text/plain": [
              "         Date       Open   High        Low      Close  Adj Close    Volume\n",
              "0  2010-06-29  19.000000  25.00  17.540001  23.889999  23.889999  18766300\n",
              "1  2010-06-30  25.790001  30.42  23.299999  23.830000  23.830000  17187100\n",
              "2  2010-07-01  25.000000  25.92  20.270000  21.959999  21.959999   8218800\n",
              "3  2010-07-02  23.000000  23.10  18.709999  19.200001  19.200001   5139800\n",
              "4  2010-07-06  20.000000  20.00  15.830000  16.110001  16.110001   6866900"
            ]
          },
          "metadata": {
            "tags": []
          },
          "execution_count": 27
        }
      ]
    },
    {
      "cell_type": "markdown",
      "metadata": {
        "id": "O7HnTZ3sGkq7"
      },
      "source": [
        "Using info to look at the data"
      ]
    },
    {
      "cell_type": "code",
      "metadata": {
        "colab": {
          "base_uri": "https://localhost:8080/"
        },
        "id": "2bYoT-G8z4id",
        "outputId": "ff398136-1bc2-4bb6-de8d-f3e45b24c42f"
      },
      "source": [
        "data.info()"
      ],
      "execution_count": 28,
      "outputs": [
        {
          "output_type": "stream",
          "text": [
            "<class 'pandas.core.frame.DataFrame'>\n",
            "RangeIndex: 2416 entries, 0 to 2415\n",
            "Data columns (total 7 columns):\n",
            " #   Column     Non-Null Count  Dtype  \n",
            "---  ------     --------------  -----  \n",
            " 0   Date       2416 non-null   object \n",
            " 1   Open       2416 non-null   float64\n",
            " 2   High       2416 non-null   float64\n",
            " 3   Low        2416 non-null   float64\n",
            " 4   Close      2416 non-null   float64\n",
            " 5   Adj Close  2416 non-null   float64\n",
            " 6   Volume     2416 non-null   int64  \n",
            "dtypes: float64(5), int64(1), object(1)\n",
            "memory usage: 132.2+ KB\n"
          ],
          "name": "stdout"
        }
      ]
    },
    {
      "cell_type": "markdown",
      "metadata": {
        "id": "99BIzyMjGpfd"
      },
      "source": [
        "There are 7 column and all the data is not null"
      ]
    },
    {
      "cell_type": "markdown",
      "metadata": {
        "id": "rw5Z4SK5Ht8n"
      },
      "source": [
        "## PreProcessing the Data"
      ]
    },
    {
      "cell_type": "code",
      "metadata": {
        "id": "BJBkOzNUz7uZ"
      },
      "source": [
        "df=data.copy()"
      ],
      "execution_count": 45,
      "outputs": []
    },
    {
      "cell_type": "markdown",
      "metadata": {
        "id": "1UnzJHz_GtB3"
      },
      "source": [
        "Using copy as to not modify the real data"
      ]
    },
    {
      "cell_type": "code",
      "metadata": {
        "id": "QPFQ5F-D0QfZ"
      },
      "source": [
        "def make_date(row):\r\n",
        "    return datetime(year = int(row.split('-')[0]), \r\n",
        "                    month = int(row.split('-')[1]), \r\n",
        "                    day = int(row.split('-')[2]))"
      ],
      "execution_count": 46,
      "outputs": []
    },
    {
      "cell_type": "markdown",
      "metadata": {
        "id": "49T8SLczGxli"
      },
      "source": [
        "change the object to datetime type using function and applpy it to dataframe"
      ]
    },
    {
      "cell_type": "code",
      "metadata": {
        "id": "omMHKwpb0foE"
      },
      "source": [
        "df['Date'] = df['Date'].apply(make_date)"
      ],
      "execution_count": 47,
      "outputs": []
    },
    {
      "cell_type": "code",
      "metadata": {
        "colab": {
          "base_uri": "https://localhost:8080/",
          "height": 233
        },
        "id": "vwDr8Bse0ieh",
        "outputId": "7e3620af-146d-4934-e970-f11333f72ae2"
      },
      "source": [
        "df.set_index(df.Date,inplace=True)\r\n",
        "df.drop(columns='Date',inplace=True)\r\n",
        "df.head()"
      ],
      "execution_count": 48,
      "outputs": [
        {
          "output_type": "execute_result",
          "data": {
            "text/html": [
              "<div>\n",
              "<style scoped>\n",
              "    .dataframe tbody tr th:only-of-type {\n",
              "        vertical-align: middle;\n",
              "    }\n",
              "\n",
              "    .dataframe tbody tr th {\n",
              "        vertical-align: top;\n",
              "    }\n",
              "\n",
              "    .dataframe thead th {\n",
              "        text-align: right;\n",
              "    }\n",
              "</style>\n",
              "<table border=\"1\" class=\"dataframe\">\n",
              "  <thead>\n",
              "    <tr style=\"text-align: right;\">\n",
              "      <th></th>\n",
              "      <th>Open</th>\n",
              "      <th>High</th>\n",
              "      <th>Low</th>\n",
              "      <th>Close</th>\n",
              "      <th>Adj Close</th>\n",
              "      <th>Volume</th>\n",
              "    </tr>\n",
              "    <tr>\n",
              "      <th>Date</th>\n",
              "      <th></th>\n",
              "      <th></th>\n",
              "      <th></th>\n",
              "      <th></th>\n",
              "      <th></th>\n",
              "      <th></th>\n",
              "    </tr>\n",
              "  </thead>\n",
              "  <tbody>\n",
              "    <tr>\n",
              "      <th>2010-06-29</th>\n",
              "      <td>19.000000</td>\n",
              "      <td>25.00</td>\n",
              "      <td>17.540001</td>\n",
              "      <td>23.889999</td>\n",
              "      <td>23.889999</td>\n",
              "      <td>18766300</td>\n",
              "    </tr>\n",
              "    <tr>\n",
              "      <th>2010-06-30</th>\n",
              "      <td>25.790001</td>\n",
              "      <td>30.42</td>\n",
              "      <td>23.299999</td>\n",
              "      <td>23.830000</td>\n",
              "      <td>23.830000</td>\n",
              "      <td>17187100</td>\n",
              "    </tr>\n",
              "    <tr>\n",
              "      <th>2010-07-01</th>\n",
              "      <td>25.000000</td>\n",
              "      <td>25.92</td>\n",
              "      <td>20.270000</td>\n",
              "      <td>21.959999</td>\n",
              "      <td>21.959999</td>\n",
              "      <td>8218800</td>\n",
              "    </tr>\n",
              "    <tr>\n",
              "      <th>2010-07-02</th>\n",
              "      <td>23.000000</td>\n",
              "      <td>23.10</td>\n",
              "      <td>18.709999</td>\n",
              "      <td>19.200001</td>\n",
              "      <td>19.200001</td>\n",
              "      <td>5139800</td>\n",
              "    </tr>\n",
              "    <tr>\n",
              "      <th>2010-07-06</th>\n",
              "      <td>20.000000</td>\n",
              "      <td>20.00</td>\n",
              "      <td>15.830000</td>\n",
              "      <td>16.110001</td>\n",
              "      <td>16.110001</td>\n",
              "      <td>6866900</td>\n",
              "    </tr>\n",
              "  </tbody>\n",
              "</table>\n",
              "</div>"
            ],
            "text/plain": [
              "                 Open   High        Low      Close  Adj Close    Volume\n",
              "Date                                                                   \n",
              "2010-06-29  19.000000  25.00  17.540001  23.889999  23.889999  18766300\n",
              "2010-06-30  25.790001  30.42  23.299999  23.830000  23.830000  17187100\n",
              "2010-07-01  25.000000  25.92  20.270000  21.959999  21.959999   8218800\n",
              "2010-07-02  23.000000  23.10  18.709999  19.200001  19.200001   5139800\n",
              "2010-07-06  20.000000  20.00  15.830000  16.110001  16.110001   6866900"
            ]
          },
          "metadata": {
            "tags": []
          },
          "execution_count": 48
        }
      ]
    },
    {
      "cell_type": "markdown",
      "metadata": {
        "id": "PsgCpW3NHBnR"
      },
      "source": [
        "Lets plot it to graph now"
      ]
    },
    {
      "cell_type": "code",
      "metadata": {
        "colab": {
          "base_uri": "https://localhost:8080/",
          "height": 282
        },
        "id": "LrCUTwNT0vVP",
        "outputId": "3d300b2c-f479-4697-cf6d-af0ab3d6d5bb"
      },
      "source": [
        "plt.plot(df['Close'])"
      ],
      "execution_count": 49,
      "outputs": [
        {
          "output_type": "execute_result",
          "data": {
            "text/plain": [
              "[<matplotlib.lines.Line2D at 0x7fabbfa1a128>]"
            ]
          },
          "metadata": {
            "tags": []
          },
          "execution_count": 49
        },
        {
          "output_type": "display_data",
          "data": {
            "image/png": "[encoded data removed]",
            "text/plain": [
              "<Figure size 432x288 with 1 Axes>"
            ]
          },
          "metadata": {
            "tags": [],
            "needs_background": "light"
          }
        }
      ]
    },
    {
      "cell_type": "markdown",
      "metadata": {
        "id": "OuIHAeVOHGJV"
      },
      "source": [
        "Drop other column and set the date as index"
      ]
    },
    {
      "cell_type": "code",
      "metadata": {
        "colab": {
          "base_uri": "https://localhost:8080/",
          "height": 446
        },
        "id": "OmrGFU7d3lvU",
        "outputId": "8f913f57-3bf4-49e6-f02a-4b8c32c4def2"
      },
      "source": [
        "df=df[['Close']]\r\n",
        "df"
      ],
      "execution_count": 50,
      "outputs": [
        {
          "output_type": "execute_result",
          "data": {
            "text/html": [
              "<div>\n",
              "<style scoped>\n",
              "    .dataframe tbody tr th:only-of-type {\n",
              "        vertical-align: middle;\n",
              "    }\n",
              "\n",
              "    .dataframe tbody tr th {\n",
              "        vertical-align: top;\n",
              "    }\n",
              "\n",
              "    .dataframe thead th {\n",
              "        text-align: right;\n",
              "    }\n",
              "</style>\n",
              "<table border=\"1\" class=\"dataframe\">\n",
              "  <thead>\n",
              "    <tr style=\"text-align: right;\">\n",
              "      <th></th>\n",
              "      <th>Close</th>\n",
              "    </tr>\n",
              "    <tr>\n",
              "      <th>Date</th>\n",
              "      <th></th>\n",
              "    </tr>\n",
              "  </thead>\n",
              "  <tbody>\n",
              "    <tr>\n",
              "      <th>2010-06-29</th>\n",
              "      <td>23.889999</td>\n",
              "    </tr>\n",
              "    <tr>\n",
              "      <th>2010-06-30</th>\n",
              "      <td>23.830000</td>\n",
              "    </tr>\n",
              "    <tr>\n",
              "      <th>2010-07-01</th>\n",
              "      <td>21.959999</td>\n",
              "    </tr>\n",
              "    <tr>\n",
              "      <th>2010-07-02</th>\n",
              "      <td>19.200001</td>\n",
              "    </tr>\n",
              "    <tr>\n",
              "      <th>2010-07-06</th>\n",
              "      <td>16.110001</td>\n",
              "    </tr>\n",
              "    <tr>\n",
              "      <th>...</th>\n",
              "      <td>...</td>\n",
              "    </tr>\n",
              "    <tr>\n",
              "      <th>2020-01-28</th>\n",
              "      <td>566.900024</td>\n",
              "    </tr>\n",
              "    <tr>\n",
              "      <th>2020-01-29</th>\n",
              "      <td>580.989990</td>\n",
              "    </tr>\n",
              "    <tr>\n",
              "      <th>2020-01-30</th>\n",
              "      <td>640.809998</td>\n",
              "    </tr>\n",
              "    <tr>\n",
              "      <th>2020-01-31</th>\n",
              "      <td>650.570007</td>\n",
              "    </tr>\n",
              "    <tr>\n",
              "      <th>2020-02-03</th>\n",
              "      <td>780.000000</td>\n",
              "    </tr>\n",
              "  </tbody>\n",
              "</table>\n",
              "<p>2416 rows × 1 columns</p>\n",
              "</div>"
            ],
            "text/plain": [
              "                 Close\n",
              "Date                  \n",
              "2010-06-29   23.889999\n",
              "2010-06-30   23.830000\n",
              "2010-07-01   21.959999\n",
              "2010-07-02   19.200001\n",
              "2010-07-06   16.110001\n",
              "...                ...\n",
              "2020-01-28  566.900024\n",
              "2020-01-29  580.989990\n",
              "2020-01-30  640.809998\n",
              "2020-01-31  650.570007\n",
              "2020-02-03  780.000000\n",
              "\n",
              "[2416 rows x 1 columns]"
            ]
          },
          "metadata": {
            "tags": []
          },
          "execution_count": 50
        }
      ]
    },
    {
      "cell_type": "markdown",
      "metadata": {
        "id": "NemfRGvyHFpV"
      },
      "source": [
        "## Deeplearning for Time Series"
      ]
    },
    {
      "cell_type": "markdown",
      "metadata": {
        "id": "voQebztnH9si"
      },
      "source": [
        "In this model will try using:\r\n",
        "\r\n",
        "\r\n",
        "1.   simpleRNN\r\n",
        "2.   LSTM\r\n",
        "\r\n",
        "Using simpleRNN and choose other hyperparameter to find the best result. Then using the same parameter to find the result with LSTM model. Lets find Best model for SimpleRNN model now\r\n",
        "\r\n"
      ]
    },
    {
      "cell_type": "markdown",
      "metadata": {
        "id": "gGNAwaQ3IRDg"
      },
      "source": [
        "### Split Train Test Data"
      ]
    },
    {
      "cell_type": "code",
      "metadata": {
        "colab": {
          "base_uri": "https://localhost:8080/"
        },
        "id": "ONouzU4t09OV",
        "outputId": "f0f4e625-dbc2-4282-94e1-73e32aa78d3b"
      },
      "source": [
        "testtime = 50\r\n",
        "train = df[:len(df)-testtime]['Close'].values\r\n",
        "test = df[len(train):]['Close'].values\r\n",
        "train=train.reshape(train.shape[0],1)\r\n",
        "test=test.reshape(test.shape[0],1)\r\n",
        "MMS = MinMaxScaler(feature_range= (0,1))\r\n",
        "train = MMS.fit_transform(train)\r\n",
        "train_X = []\r\n",
        "train_y = []\r\n",
        "\r\n",
        "for i in range(testtime, train.shape[0]):\r\n",
        "    train_X.append(train[i-testtime:i,0])\r\n",
        "    train_y.append(train[i,0])\r\n",
        "\r\n",
        "train_X = np.array(train_X)\r\n",
        "train_X = train_X.reshape(train_X.shape[0], train_X.shape[1], 1)\r\n",
        "train_y = np.array(train_y)\r\n",
        "print('Training input shape: {}'.format(train_X.shape))\r\n",
        "print('Training output shape: {}'.format(train_y.shape))"
      ],
      "execution_count": 51,
      "outputs": [
        {
          "output_type": "stream",
          "text": [
            "Training input shape: (2316, 50, 1)\n",
            "Training output shape: (2316,)\n"
          ],
          "name": "stdout"
        }
      ]
    },
    {
      "cell_type": "code",
      "metadata": {
        "id": "GyGiXIEe1r05"
      },
      "source": [
        "inputs = df[len(df) - len(test) - testtime:]\r\n",
        "inputs = MMS.transform(inputs)\r\n",
        "\r\n",
        "test_X = []\r\n",
        "\r\n",
        "for i in range(testtime, 100):\r\n",
        "    test_X.append(inputs[i-testtime:i,0])\r\n",
        "\r\n",
        "test_X = np.array(test_X)\r\n",
        "test_X = test_X.reshape(test_X.shape[0], test_X.shape[1], 1)"
      ],
      "execution_count": 52,
      "outputs": []
    },
    {
      "cell_type": "code",
      "metadata": {
        "colab": {
          "base_uri": "https://localhost:8080/"
        },
        "id": "tYiu-Z0k2DtR",
        "outputId": "23aaa63c-82e5-4a43-da68-c717e3a6b708"
      },
      "source": [
        "test_X.shape"
      ],
      "execution_count": 53,
      "outputs": [
        {
          "output_type": "execute_result",
          "data": {
            "text/plain": [
              "(50, 50, 1)"
            ]
          },
          "metadata": {
            "tags": []
          },
          "execution_count": 53
        }
      ]
    },
    {
      "cell_type": "markdown",
      "metadata": {
        "id": "yg0zwwdeIV6E"
      },
      "source": [
        "### Model 1 SimpleRNN using Sigmoid"
      ]
    },
    {
      "cell_type": "code",
      "metadata": {
        "colab": {
          "base_uri": "https://localhost:8080/"
        },
        "id": "E0Sd05Ew23l7",
        "outputId": "1afeed6f-cf6c-4135-d88b-38228dcde739"
      },
      "source": [
        "model_1 = Sequential() \r\n",
        "model_1.add(SimpleRNN(50, activation='sigmoid',\r\n",
        "                    input_shape=(train_X.shape[1],1)))\r\n",
        "model_1.add(Dense(1))\r\n",
        "model_1.compile(loss='mean_squared_error', optimizer='adam')\r\n",
        "model_1.fit(train_X, train_y, epochs=100, batch_size=64, verbose=0)"
      ],
      "execution_count": 54,
      "outputs": [
        {
          "output_type": "execute_result",
          "data": {
            "text/plain": [
              "<tensorflow.python.keras.callbacks.History at 0x7fabbb8779b0>"
            ]
          },
          "metadata": {
            "tags": []
          },
          "execution_count": 54
        }
      ]
    },
    {
      "cell_type": "code",
      "metadata": {
        "colab": {
          "base_uri": "https://localhost:8080/",
          "height": 268
        },
        "id": "n1sZsnky5-sy",
        "outputId": "5021e5f3-4fb0-46fb-9d83-6fc157787d72"
      },
      "source": [
        "predicted = model_1.predict(test_X)\r\n",
        "predicted = MMS.inverse_transform(predicted)\r\n",
        "plt.figure(figsize=(8,4))\r\n",
        "plt.plot(test,label=\"Real Price\")\r\n",
        "plt.plot(predicted,label=\"Predicted Price\")\r\n",
        "plt.legend()\r\n",
        "plt.grid(True)\r\n",
        "plt.show()"
      ],
      "execution_count": 56,
      "outputs": [
        {
          "output_type": "display_data",
          "data": {
            "image/png": "[encoded data removed]",
            "text/plain": [
              "<Figure size 576x288 with 1 Axes>"
            ]
          },
          "metadata": {
            "tags": [],
            "needs_background": "light"
          }
        }
      ]
    },
    {
      "cell_type": "markdown",
      "metadata": {
        "id": "cNaf11iCIe8Z"
      },
      "source": [
        "### Model 2 SimpleRNN using Relu"
      ]
    },
    {
      "cell_type": "code",
      "metadata": {
        "colab": {
          "base_uri": "https://localhost:8080/"
        },
        "id": "8HmePuIz7o_A",
        "outputId": "d77bcbbe-975f-4b04-c229-175e1221861c"
      },
      "source": [
        "model_2 = Sequential() \r\n",
        "model_2.add(SimpleRNN(50, activation='relu',\r\n",
        "                    input_shape=(train_X.shape[1],1)))\r\n",
        "model_2.add(Dense(1))\r\n",
        "model_2.compile(loss='mean_squared_error', optimizer='adam')\r\n",
        "model_2.fit(train_X, train_y, epochs=100, batch_size=64, verbose=0)"
      ],
      "execution_count": 57,
      "outputs": [
        {
          "output_type": "execute_result",
          "data": {
            "text/plain": [
              "<tensorflow.python.keras.callbacks.History at 0x7fabb87e3b00>"
            ]
          },
          "metadata": {
            "tags": []
          },
          "execution_count": 57
        }
      ]
    },
    {
      "cell_type": "code",
      "metadata": {
        "colab": {
          "base_uri": "https://localhost:8080/",
          "height": 268
        },
        "id": "wjLIUl2q71dZ",
        "outputId": "96c33403-c337-4d50-df65-d367a93b1c4f"
      },
      "source": [
        "predicted = model_2.predict(test_X)\r\n",
        "predicted = MMS.inverse_transform(predicted)\r\n",
        "plt.figure(figsize=(8,4))\r\n",
        "plt.plot(test,label=\"Real Price\")\r\n",
        "plt.plot(predicted,label=\"Predicted Price\")\r\n",
        "plt.legend()\r\n",
        "plt.grid(True)\r\n",
        "plt.show()"
      ],
      "execution_count": 58,
      "outputs": [
        {
          "output_type": "display_data",
          "data": {
            "image/png": "[encoded data removed]",
            "text/plain": [
              "<Figure size 576x288 with 1 Axes>"
            ]
          },
          "metadata": {
            "tags": [],
            "needs_background": "light"
          }
        }
      ]
    },
    {
      "cell_type": "markdown",
      "metadata": {
        "id": "OVDJEnpiIndO"
      },
      "source": [
        "### Model 3 SimpleRNN using Tnah"
      ]
    },
    {
      "cell_type": "code",
      "metadata": {
        "colab": {
          "base_uri": "https://localhost:8080/"
        },
        "id": "RrPriAsp8BSc",
        "outputId": "0e2ab1a0-d453-45d1-c606-a357489fe600"
      },
      "source": [
        "model_3 = Sequential() \r\n",
        "model_3.add(SimpleRNN(50, activation='tanh',\r\n",
        "                    input_shape=(train_X.shape[1],1)))\r\n",
        "model_3.add(Dense(1))\r\n",
        "model_3.compile(loss='mean_squared_error', optimizer='adam')\r\n",
        "model_3.fit(train_X, train_y, epochs=100, batch_size=64, verbose=0)"
      ],
      "execution_count": 59,
      "outputs": [
        {
          "output_type": "execute_result",
          "data": {
            "text/plain": [
              "<tensorflow.python.keras.callbacks.History at 0x7fabb74b3b70>"
            ]
          },
          "metadata": {
            "tags": []
          },
          "execution_count": 59
        }
      ]
    },
    {
      "cell_type": "code",
      "metadata": {
        "colab": {
          "base_uri": "https://localhost:8080/",
          "height": 268
        },
        "id": "1RWf56Dl8I36",
        "outputId": "2c9bbbf8-2487-4ede-ba92-c74a4000855c"
      },
      "source": [
        "predicted = model_3.predict(test_X)\r\n",
        "predicted = MMS.inverse_transform(predicted)\r\n",
        "plt.figure(figsize=(8,4))\r\n",
        "plt.plot(test,label=\"Real Price\")\r\n",
        "plt.plot(predicted,label=\"Predicted Price\")\r\n",
        "plt.legend()\r\n",
        "plt.grid(True)\r\n",
        "plt.show()"
      ],
      "execution_count": 60,
      "outputs": [
        {
          "output_type": "display_data",
          "data": {
            "image/png": "[encoded data removed]",
            "text/plain": [
              "<Figure size 576x288 with 1 Axes>"
            ]
          },
          "metadata": {
            "tags": [],
            "needs_background": "light"
          }
        }
      ]
    },
    {
      "cell_type": "markdown",
      "metadata": {
        "id": "Qkc2jqHrIv-M"
      },
      "source": [
        "### Model 4 Using Relu, add another layer and use dropout"
      ]
    },
    {
      "cell_type": "code",
      "metadata": {
        "colab": {
          "base_uri": "https://localhost:8080/"
        },
        "id": "Dd48MXDc8YUs",
        "outputId": "52053e2c-3de2-4ae1-ba2a-6bc8aa83a6ad"
      },
      "source": [
        "model_4 = Sequential() \r\n",
        "model_4.add(SimpleRNN(50, activation='relu',\r\n",
        "                    input_shape=(train_X.shape[1],1),return_sequences = True))\r\n",
        "model_4.add(Dropout(0.5))\r\n",
        "model_4.add(SimpleRNN(50, activation='relu'))\r\n",
        "model_4.add(Dense(1))\r\n",
        "model_4.compile(loss='mean_squared_error', optimizer='adam')\r\n",
        "model_4.fit(train_X, train_y, epochs=100, batch_size=64, verbose=0)"
      ],
      "execution_count": 64,
      "outputs": [
        {
          "output_type": "execute_result",
          "data": {
            "text/plain": [
              "<tensorflow.python.keras.callbacks.History at 0x7fabb7354198>"
            ]
          },
          "metadata": {
            "tags": []
          },
          "execution_count": 64
        }
      ]
    },
    {
      "cell_type": "code",
      "metadata": {
        "colab": {
          "base_uri": "https://localhost:8080/",
          "height": 266
        },
        "id": "l9cw8JWD8rov",
        "outputId": "23cd0434-9be9-4798-b9ee-b51b508306c7"
      },
      "source": [
        "predicted = model_4.predict(test_X)\r\n",
        "predicted = MMS.inverse_transform(predicted)\r\n",
        "plt.figure(figsize=(8,4))\r\n",
        "plt.plot(test,label=\"Real Price\")\r\n",
        "plt.plot(predicted,label=\"Predicted Price\")\r\n",
        "plt.legend()\r\n",
        "plt.grid(True)\r\n",
        "plt.show()"
      ],
      "execution_count": 65,
      "outputs": [
        {
          "output_type": "display_data",
          "data": {
            "image/png": "[encoded data removed]",
            "text/plain": [
              "<Figure size 576x288 with 1 Axes>"
            ]
          },
          "metadata": {
            "tags": [],
            "needs_background": "light"
          }
        }
      ]
    },
    {
      "cell_type": "markdown",
      "metadata": {
        "id": "qbWKU7tNI4aO"
      },
      "source": [
        "### Model 5 Using Relu add another layer and not using dropout"
      ]
    },
    {
      "cell_type": "code",
      "metadata": {
        "colab": {
          "base_uri": "https://localhost:8080/"
        },
        "id": "BCG1RWC59i3x",
        "outputId": "136ecf5f-db8a-476b-8bea-7c9c19fd701a"
      },
      "source": [
        "model_5 = Sequential() \r\n",
        "model_5.add(SimpleRNN(50, activation='relu',\r\n",
        "                    input_shape=(train_X.shape[1],1),return_sequences = True))\r\n",
        "model_5.add(SimpleRNN(50, activation='relu'))\r\n",
        "model_5.add(Dense(1))\r\n",
        "model_5.compile(loss='mean_squared_error', optimizer='adam')\r\n",
        "model_5.fit(train_X, train_y, epochs=100, batch_size=32, verbose=0)"
      ],
      "execution_count": 72,
      "outputs": [
        {
          "output_type": "execute_result",
          "data": {
            "text/plain": [
              "<tensorflow.python.keras.callbacks.History at 0x7fabb4eff828>"
            ]
          },
          "metadata": {
            "tags": []
          },
          "execution_count": 72
        }
      ]
    },
    {
      "cell_type": "code",
      "metadata": {
        "colab": {
          "base_uri": "https://localhost:8080/",
          "height": 305
        },
        "id": "eAesFYhz9soU",
        "outputId": "050c15be-8faa-400e-e7a2-e8b36bd2682f"
      },
      "source": [
        "predicted = model_5.predict(test_X)\r\n",
        "predicted = MMS.inverse_transform(predicted)\r\n",
        "plt.figure(figsize=(8,4))\r\n",
        "plt.plot(test,label=\"Real Price\")\r\n",
        "plt.plot(predicted,label=\"Predicted Price\")\r\n",
        "plt.legend()\r\n",
        "plt.grid(True)\r\n",
        "plt.show()"
      ],
      "execution_count": 73,
      "outputs": [
        {
          "output_type": "stream",
          "text": [
            "WARNING:tensorflow:5 out of the last 11 calls to <function Model.make_predict_function.<locals>.predict_function at 0x7fabb4f45d90> triggered tf.function retracing. Tracing is expensive and the excessive number of tracings could be due to (1) creating @tf.function repeatedly in a loop, (2) passing tensors with different shapes, (3) passing Python objects instead of tensors. For (1), please define your @tf.function outside of the loop. For (2), @tf.function has experimental_relax_shapes=True option that relaxes argument shapes that can avoid unnecessary retracing. For (3), please refer to https://www.tensorflow.org/guide/function#controlling_retracing and https://www.tensorflow.org/api_docs/python/tf/function for  more details.\n"
          ],
          "name": "stdout"
        },
        {
          "output_type": "display_data",
          "data": {
            "image/png": "[encoded data removed]",
            "text/plain": [
              "<Figure size 576x288 with 1 Axes>"
            ]
          },
          "metadata": {
            "tags": [],
            "needs_background": "light"
          }
        }
      ]
    },
    {
      "cell_type": "markdown",
      "metadata": {
        "id": "8j6VhpH0JCc3"
      },
      "source": [
        "### Model 6 Using Relu add another layer and another layer of dropout"
      ]
    },
    {
      "cell_type": "code",
      "metadata": {
        "colab": {
          "base_uri": "https://localhost:8080/"
        },
        "id": "3kLAnKrB-VTK",
        "outputId": "76a13335-b3b2-4622-baa3-9c8869d60c6b"
      },
      "source": [
        "model_6 = Sequential() \r\n",
        "model_6.add(SimpleRNN(50, activation='relu',\r\n",
        "                    input_shape=(train_X.shape[1],1),return_sequences = True))\r\n",
        "model_6.add(Dropout(0.1))\r\n",
        "model_6.add(SimpleRNN(50, activation='relu',return_sequences = True))\r\n",
        "model_6.add(Dropout(0.1))\r\n",
        "model_6.add(SimpleRNN(50, activation='relu'))\r\n",
        "model_6.add(Dense(1))\r\n",
        "model_6.compile(loss='mean_squared_error', optimizer='adam')\r\n",
        "model_6.fit(train_X, train_y, epochs=100, batch_size=32, verbose=0)"
      ],
      "execution_count": 78,
      "outputs": [
        {
          "output_type": "execute_result",
          "data": {
            "text/plain": [
              "<tensorflow.python.keras.callbacks.History at 0x7fabb2d657b8>"
            ]
          },
          "metadata": {
            "tags": []
          },
          "execution_count": 78
        }
      ]
    },
    {
      "cell_type": "code",
      "metadata": {
        "colab": {
          "base_uri": "https://localhost:8080/",
          "height": 305
        },
        "id": "UO3KxT4m_0I3",
        "outputId": "5af98194-4467-434b-e22a-0a64deb1bf7b"
      },
      "source": [
        "predicted = model_6.predict(test_X)\r\n",
        "predicted = MMS.inverse_transform(predicted)\r\n",
        "plt.figure(figsize=(8,4))\r\n",
        "plt.plot(test,label=\"Real Price\")\r\n",
        "plt.plot(predicted,label=\"Predicted Price\")\r\n",
        "plt.legend()\r\n",
        "plt.grid(True)\r\n",
        "plt.show()"
      ],
      "execution_count": 79,
      "outputs": [
        {
          "output_type": "stream",
          "text": [
            "WARNING:tensorflow:5 out of the last 11 calls to <function Model.make_predict_function.<locals>.predict_function at 0x7fabb2d9e2f0> triggered tf.function retracing. Tracing is expensive and the excessive number of tracings could be due to (1) creating @tf.function repeatedly in a loop, (2) passing tensors with different shapes, (3) passing Python objects instead of tensors. For (1), please define your @tf.function outside of the loop. For (2), @tf.function has experimental_relax_shapes=True option that relaxes argument shapes that can avoid unnecessary retracing. For (3), please refer to https://www.tensorflow.org/guide/function#controlling_retracing and https://www.tensorflow.org/api_docs/python/tf/function for  more details.\n"
          ],
          "name": "stdout"
        },
        {
          "output_type": "display_data",
          "data": {
            "image/png": "[encoded data removed]",
            "text/plain": [
              "<Figure size 576x288 with 1 Axes>"
            ]
          },
          "metadata": {
            "tags": [],
            "needs_background": "light"
          }
        }
      ]
    },
    {
      "cell_type": "markdown",
      "metadata": {
        "id": "eGOB5T-dJMK7"
      },
      "source": [
        "### Model 7 LSTM using Relu"
      ]
    },
    {
      "cell_type": "code",
      "metadata": {
        "colab": {
          "base_uri": "https://localhost:8080/"
        },
        "id": "bo9xOMHFBKvG",
        "outputId": "71b36f56-7270-409d-ac1b-6ef050c99717"
      },
      "source": [
        "model_7 = Sequential() \r\n",
        "model_7.add(LSTM(50, activation='relu',\r\n",
        "                    input_shape=(train_X.shape[1],1)))\r\n",
        "model_7.add(Dense(1))\r\n",
        "model_7.compile(loss='mean_squared_error', optimizer='adam')\r\n",
        "model_7.fit(train_X, train_y, epochs=100, batch_size=64, verbose=0)"
      ],
      "execution_count": 80,
      "outputs": [
        {
          "output_type": "execute_result",
          "data": {
            "text/plain": [
              "<tensorflow.python.keras.callbacks.History at 0x7fabafd68a20>"
            ]
          },
          "metadata": {
            "tags": []
          },
          "execution_count": 80
        }
      ]
    },
    {
      "cell_type": "code",
      "metadata": {
        "colab": {
          "base_uri": "https://localhost:8080/",
          "height": 305
        },
        "id": "_ukrr4NfBgX2",
        "outputId": "37dec13f-370e-4415-eb5f-24b31298ab17"
      },
      "source": [
        "predicted = model_7.predict(test_X)\r\n",
        "predicted = MMS.inverse_transform(predicted)\r\n",
        "plt.figure(figsize=(8,4))\r\n",
        "plt.plot(test,label=\"Real Price\")\r\n",
        "plt.plot(predicted,label=\"Predicted Price\")\r\n",
        "plt.legend()\r\n",
        "plt.grid(True)\r\n",
        "plt.show()"
      ],
      "execution_count": 81,
      "outputs": [
        {
          "output_type": "stream",
          "text": [
            "WARNING:tensorflow:5 out of the last 11 calls to <function Model.make_predict_function.<locals>.predict_function at 0x7fabb2882268> triggered tf.function retracing. Tracing is expensive and the excessive number of tracings could be due to (1) creating @tf.function repeatedly in a loop, (2) passing tensors with different shapes, (3) passing Python objects instead of tensors. For (1), please define your @tf.function outside of the loop. For (2), @tf.function has experimental_relax_shapes=True option that relaxes argument shapes that can avoid unnecessary retracing. For (3), please refer to https://www.tensorflow.org/guide/function#controlling_retracing and https://www.tensorflow.org/api_docs/python/tf/function for  more details.\n"
          ],
          "name": "stdout"
        },
        {
          "output_type": "display_data",
          "data": {
            "image/png": "[encoded data removed]",
            "text/plain": [
              "<Figure size 576x288 with 1 Axes>"
            ]
          },
          "metadata": {
            "tags": [],
            "needs_background": "light"
          }
        }
      ]
    },
    {
      "cell_type": "code",
      "metadata": {
        "colab": {
          "base_uri": "https://localhost:8080/"
        },
        "id": "op2CSS9DB6ia",
        "outputId": "a693aa45-ab2f-4559-b41b-3b25c2820728"
      },
      "source": [
        "model_8 = Sequential() \r\n",
        "model_8.add(LSTM(50, activation='tanh',\r\n",
        "                    input_shape=(train_X.shape[1],1),return_sequences = True))\r\n",
        "model_8.add(LSTM(50, activation='tanh',return_sequences = True))\r\n",
        "model_8.add(LSTM(50, activation='tanh',return_sequences = True))\r\n",
        "model_8.add(Dense(1))\r\n",
        "model_8.compile(loss='mean_squared_error', optimizer='adam')\r\n",
        "model_8.fit(train_X, train_y, epochs=100, batch_size=64, verbose=0)"
      ],
      "execution_count": 87,
      "outputs": [
        {
          "output_type": "execute_result",
          "data": {
            "text/plain": [
              "<tensorflow.python.keras.callbacks.History at 0x7fabaa645160>"
            ]
          },
          "metadata": {
            "tags": []
          },
          "execution_count": 87
        }
      ]
    },
    {
      "cell_type": "code",
      "metadata": {
        "colab": {
          "base_uri": "https://localhost:8080/",
          "height": 434
        },
        "id": "4UdzOhsZCMXX",
        "outputId": "ffb2e992-1708-4725-b0ed-5b3cf461e26b"
      },
      "source": [
        "predicted = model_8.predict(test_X)\r\n",
        "predicted = MMS.inverse_transform(predicted)\r\n",
        "plt.figure(figsize=(8,4))\r\n",
        "plt.plot(test,label=\"Real Price\")\r\n",
        "plt.plot(predicted,label=\"Predicted Price\")\r\n",
        "plt.legend()\r\n",
        "plt.grid(True)\r\n",
        "plt.show()"
      ],
      "execution_count": 88,
      "outputs": [
        {
          "output_type": "stream",
          "text": [
            "WARNING:tensorflow:6 out of the last 11 calls to <function Model.make_predict_function.<locals>.predict_function at 0x7faba9f81488> triggered tf.function retracing. Tracing is expensive and the excessive number of tracings could be due to (1) creating @tf.function repeatedly in a loop, (2) passing tensors with different shapes, (3) passing Python objects instead of tensors. For (1), please define your @tf.function outside of the loop. For (2), @tf.function has experimental_relax_shapes=True option that relaxes argument shapes that can avoid unnecessary retracing. For (3), please refer to https://www.tensorflow.org/guide/function#controlling_retracing and https://www.tensorflow.org/api_docs/python/tf/function for  more details.\n"
          ],
          "name": "stdout"
        },
        {
          "output_type": "error",
          "ename": "ValueError",
          "evalue": "ignored",
          "traceback": [
            "\u001b[0;31m---------------------------------------------------------------------------\u001b[0m",
            "\u001b[0;31mValueError\u001b[0m                                Traceback (most recent call last)",
            "\u001b[0;32m<ipython-input-88-9e708c87f532>\u001b[0m in \u001b[0;36m<module>\u001b[0;34m()\u001b[0m\n\u001b[1;32m      1\u001b[0m \u001b[0mpredicted\u001b[0m \u001b[0;34m=\u001b[0m \u001b[0mmodel_8\u001b[0m\u001b[0;34m.\u001b[0m\u001b[0mpredict\u001b[0m\u001b[0;34m(\u001b[0m\u001b[0mtest_X\u001b[0m\u001b[0;34m)\u001b[0m\u001b[0;34m\u001b[0m\u001b[0;34m\u001b[0m\u001b[0m\n\u001b[0;32m----> 2\u001b[0;31m \u001b[0mpredicted\u001b[0m \u001b[0;34m=\u001b[0m \u001b[0msc\u001b[0m\u001b[0;34m.\u001b[0m\u001b[0minverse_transform\u001b[0m\u001b[0;34m(\u001b[0m\u001b[0mpredicted\u001b[0m\u001b[0;34m)\u001b[0m\u001b[0;34m\u001b[0m\u001b[0;34m\u001b[0m\u001b[0m\n\u001b[0m\u001b[1;32m      3\u001b[0m \u001b[0mplt\u001b[0m\u001b[0;34m.\u001b[0m\u001b[0mfigure\u001b[0m\u001b[0;34m(\u001b[0m\u001b[0mfigsize\u001b[0m\u001b[0;34m=\u001b[0m\u001b[0;34m(\u001b[0m\u001b[0;36m8\u001b[0m\u001b[0;34m,\u001b[0m\u001b[0;36m4\u001b[0m\u001b[0;34m)\u001b[0m\u001b[0;34m)\u001b[0m\u001b[0;34m\u001b[0m\u001b[0;34m\u001b[0m\u001b[0m\n\u001b[1;32m      4\u001b[0m \u001b[0mplt\u001b[0m\u001b[0;34m.\u001b[0m\u001b[0mplot\u001b[0m\u001b[0;34m(\u001b[0m\u001b[0mtest\u001b[0m\u001b[0;34m,\u001b[0m\u001b[0mlabel\u001b[0m\u001b[0;34m=\u001b[0m\u001b[0;34m\"Real Price\"\u001b[0m\u001b[0;34m)\u001b[0m\u001b[0;34m\u001b[0m\u001b[0;34m\u001b[0m\u001b[0m\n\u001b[1;32m      5\u001b[0m \u001b[0mplt\u001b[0m\u001b[0;34m.\u001b[0m\u001b[0mplot\u001b[0m\u001b[0;34m(\u001b[0m\u001b[0mpredicted\u001b[0m\u001b[0;34m,\u001b[0m\u001b[0mlabel\u001b[0m\u001b[0;34m=\u001b[0m\u001b[0;34m\"Predicted Price\"\u001b[0m\u001b[0;34m)\u001b[0m\u001b[0;34m\u001b[0m\u001b[0;34m\u001b[0m\u001b[0m\n",
            "\u001b[0;32m/usr/local/lib/python3.6/dist-packages/sklearn/preprocessing/_data.py\u001b[0m in \u001b[0;36minverse_transform\u001b[0;34m(self, X)\u001b[0m\n\u001b[1;32m    432\u001b[0m \u001b[0;34m\u001b[0m\u001b[0m\n\u001b[1;32m    433\u001b[0m         X = check_array(X, copy=self.copy, dtype=FLOAT_DTYPES,\n\u001b[0;32m--> 434\u001b[0;31m                         force_all_finite=\"allow-nan\")\n\u001b[0m\u001b[1;32m    435\u001b[0m \u001b[0;34m\u001b[0m\u001b[0m\n\u001b[1;32m    436\u001b[0m         \u001b[0mX\u001b[0m \u001b[0;34m-=\u001b[0m \u001b[0mself\u001b[0m\u001b[0;34m.\u001b[0m\u001b[0mmin_\u001b[0m\u001b[0;34m\u001b[0m\u001b[0;34m\u001b[0m\u001b[0m\n",
            "\u001b[0;32m/usr/local/lib/python3.6/dist-packages/sklearn/utils/validation.py\u001b[0m in \u001b[0;36mcheck_array\u001b[0;34m(array, accept_sparse, accept_large_sparse, dtype, order, copy, force_all_finite, ensure_2d, allow_nd, ensure_min_samples, ensure_min_features, warn_on_dtype, estimator)\u001b[0m\n\u001b[1;32m    572\u001b[0m         \u001b[0;32mif\u001b[0m \u001b[0;32mnot\u001b[0m \u001b[0mallow_nd\u001b[0m \u001b[0;32mand\u001b[0m \u001b[0marray\u001b[0m\u001b[0;34m.\u001b[0m\u001b[0mndim\u001b[0m \u001b[0;34m>=\u001b[0m \u001b[0;36m3\u001b[0m\u001b[0;34m:\u001b[0m\u001b[0;34m\u001b[0m\u001b[0;34m\u001b[0m\u001b[0m\n\u001b[1;32m    573\u001b[0m             raise ValueError(\"Found array with dim %d. %s expected <= 2.\"\n\u001b[0;32m--> 574\u001b[0;31m                              % (array.ndim, estimator_name))\n\u001b[0m\u001b[1;32m    575\u001b[0m \u001b[0;34m\u001b[0m\u001b[0m\n\u001b[1;32m    576\u001b[0m         \u001b[0;32mif\u001b[0m \u001b[0mforce_all_finite\u001b[0m\u001b[0;34m:\u001b[0m\u001b[0;34m\u001b[0m\u001b[0;34m\u001b[0m\u001b[0m\n",
            "\u001b[0;31mValueError\u001b[0m: Found array with dim 3. Estimator expected <= 2."
          ]
        }
      ]
    },
    {
      "cell_type": "markdown",
      "metadata": {
        "id": "u1jBRgZDJexA"
      },
      "source": [
        "For this trial give the best result using SimpleRNN model. As keep tuned the hyperparameter and adding another layer dont mean increase the accuracy. As in this trial using 1 layer and simpleRNN give the best result that goes near the real value"
      ]
    },
    {
      "cell_type": "markdown",
      "metadata": {
        "id": "Vo7JxSQDJq6E"
      },
      "source": [
        "For the next trial can try using other hyperparameter or other method beside adam. As Machine Learning takes lots of time, in this next trial will keep finding the best model"
      ]
    },
    {
      "cell_type": "code",
      "metadata": {
        "id": "PpqCOm47EHlB"
      },
      "source": [
        ""
      ],
      "execution_count": null,
      "outputs": []
    }
  ]
}