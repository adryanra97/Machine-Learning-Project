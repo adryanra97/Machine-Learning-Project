{
  "nbformat": 4,
  "nbformat_minor": 0,
  "metadata": {
    "colab": {
      "name": "Comparing Keras Pretrained Model Restnet50 and VGG16 for Image Classification.ipynb",
      "provenance": []
    },
    "kernelspec": {
      "name": "python3",
      "display_name": "Python 3"
    },
    "language_info": {
      "name": "python"
    },
    "accelerator": "GPU"
  },
  "cells": [
    {
      "cell_type": "markdown",
      "metadata": {
        "id": "Hu1JZ94nBwWc"
      },
      "source": [
        "# **Final Assignment**\n",
        "In this final assignment from IBM Professional Certificate Task by Adryan Rizky Alviano will comparing the result from machine learning model with the detail:\n",
        "\n",
        "\n",
        "\n",
        "1**. Dataset**\\\n",
        "Dataset will be provided by IBM thats contain 40000 images with class of 2. The data will be split to train with 30000 images and test with 10000 images.\n",
        "\n",
        "**2. The Task**\\\n",
        "There are 2 pre-trained model that will be use in this notebook.\n",
        "*   Resnet50\n",
        "*   VGG16\n",
        "\n",
        "The Task will be:\n",
        "*   Fit Train Model Using Resnet50\n",
        "*   Fit Train Model Using VGG16\n",
        "*   Fit Test Bot Model\n",
        "*   Evaluate and Compare The Result\n",
        "\n",
        "**3. Environment**\\\n",
        "Google colab will be used and setting hardware accelerator on GPU. \n",
        "\n",
        "\n",
        "\n",
        "\n",
        "\n",
        "\n",
        "\n",
        "\n",
        "\n",
        "\n",
        "\n",
        "\n",
        "\n"
      ]
    },
    {
      "cell_type": "markdown",
      "metadata": {
        "id": "kM6eR8LrDddA"
      },
      "source": [
        "## Library"
      ]
    },
    {
      "cell_type": "code",
      "metadata": {
        "id": "cXorfBX8nsTV"
      },
      "source": [
        "from tensorflow import keras\n",
        "from keras.models import Sequential\n",
        "from keras.layers import Dense\n",
        "from keras import applications\n",
        "from tensorflow.keras.applications import ResNet50\n",
        "from keras.applications.resnet50 import preprocess_input\n",
        "from keras.preprocessing.image import ImageDataGenerator"
      ],
      "execution_count": null,
      "outputs": []
    },
    {
      "cell_type": "code",
      "metadata": {
        "id": "dzJGCK6Vpngh"
      },
      "source": [
        "import os"
      ],
      "execution_count": null,
      "outputs": []
    },
    {
      "cell_type": "markdown",
      "metadata": {
        "id": "aYTL2nQeDsm-"
      },
      "source": [
        "## **Import the Data**"
      ]
    },
    {
      "cell_type": "code",
      "metadata": {
        "colab": {
          "base_uri": "https://localhost:8080/"
        },
        "id": "F8dMbpwfnwyv",
        "outputId": "4e519581-9001-492e-b3a4-c9380cb58fc4"
      },
      "source": [
        "## get the data\n",
        "!wget https://s3-api.us-geo.objectstorage.softlayer.net/cf-courses-data/CognitiveClass/DL0321EN/data/concrete_data_week3.zip"
      ],
      "execution_count": null,
      "outputs": [
        {
          "output_type": "stream",
          "text": [
            "--2021-06-28 00:20:35--  https://s3-api.us-geo.objectstorage.softlayer.net/cf-courses-data/CognitiveClass/DL0321EN/data/concrete_data_week3.zip\n",
            "Resolving s3-api.us-geo.objectstorage.softlayer.net (s3-api.us-geo.objectstorage.softlayer.net)... 67.228.254.196\n",
            "Connecting to s3-api.us-geo.objectstorage.softlayer.net (s3-api.us-geo.objectstorage.softlayer.net)|67.228.254.196|:443... connected.\n",
            "HTTP request sent, awaiting response... 200 OK\n",
            "Length: 261482368 (249M) [application/zip]\n",
            "Saving to: ‘concrete_data_week3.zip’\n",
            "\n",
            "concrete_data_week3 100%[===================>] 249.37M  24.3MB/s    in 10s     \n",
            "\n",
            "2021-06-28 00:20:46 (24.0 MB/s) - ‘concrete_data_week3.zip’ saved [261482368/261482368]\n",
            "\n"
          ],
          "name": "stdout"
        }
      ]
    },
    {
      "cell_type": "code",
      "metadata": {
        "id": "b88aDOTaoLyf"
      },
      "source": [
        "!unzip concrete_data_week3.zip"
      ],
      "execution_count": null,
      "outputs": []
    },
    {
      "cell_type": "markdown",
      "metadata": {
        "id": "9l_RXo7tDzdG"
      },
      "source": [
        "## **The Parameter**"
      ]
    },
    {
      "cell_type": "code",
      "metadata": {
        "id": "-kM6LhH8oPd3"
      },
      "source": [
        "num_classes = 2\n",
        "\n",
        "image_resize = 224\n",
        "\n",
        "batch_size_training = 100\n",
        "batch_size_validation = 100"
      ],
      "execution_count": null,
      "outputs": []
    },
    {
      "cell_type": "markdown",
      "metadata": {
        "id": "0tQgmmjCD48F"
      },
      "source": [
        "## **Data Preprocessing**"
      ]
    },
    {
      "cell_type": "code",
      "metadata": {
        "id": "Z1caaUONpNEd"
      },
      "source": [
        "data_generator = ImageDataGenerator(\n",
        "    preprocessing_function=preprocess_input,\n",
        ")"
      ],
      "execution_count": null,
      "outputs": []
    },
    {
      "cell_type": "code",
      "metadata": {
        "colab": {
          "base_uri": "https://localhost:8080/"
        },
        "id": "4xbVu6srpWUH",
        "outputId": "e6f899ac-e91f-41f4-f1d5-3856955b9682"
      },
      "source": [
        "train_generator = data_generator.flow_from_directory(\n",
        "    'concrete_data_week3/train',\n",
        "    target_size=(image_resize, image_resize),\n",
        "    batch_size=batch_size_training,\n",
        "    class_mode='categorical')"
      ],
      "execution_count": null,
      "outputs": [
        {
          "output_type": "stream",
          "text": [
            "Found 30001 images belonging to 2 classes.\n"
          ],
          "name": "stdout"
        }
      ]
    },
    {
      "cell_type": "code",
      "metadata": {
        "colab": {
          "base_uri": "https://localhost:8080/"
        },
        "id": "knoudZFIptMo",
        "outputId": "1253a967-8e07-4a10-f407-81deeafcde52"
      },
      "source": [
        "validation_generator = data_generator.flow_from_directory(\n",
        "    'concrete_data_week3/valid',\n",
        "    target_size=(image_resize, image_resize),\n",
        "    batch_size=batch_size_training,\n",
        "    class_mode='categorical')"
      ],
      "execution_count": null,
      "outputs": [
        {
          "output_type": "stream",
          "text": [
            "Found 10001 images belonging to 2 classes.\n"
          ],
          "name": "stdout"
        }
      ]
    },
    {
      "cell_type": "markdown",
      "metadata": {
        "id": "41568VKYEIM9"
      },
      "source": [
        "# **Restnet50 Model**"
      ]
    },
    {
      "cell_type": "code",
      "metadata": {
        "id": "F6OSHi1Lp09l"
      },
      "source": [
        "model = Sequential()"
      ],
      "execution_count": null,
      "outputs": []
    },
    {
      "cell_type": "code",
      "metadata": {
        "colab": {
          "base_uri": "https://localhost:8080/"
        },
        "id": "jljWhheAp8ls",
        "outputId": "95afd3d6-acfc-4f52-fb0b-2b0261b51737"
      },
      "source": [
        "model.add(ResNet50(\n",
        "    include_top=False,\n",
        "    pooling='avg',\n",
        "    weights='imagenet',\n",
        "    ))"
      ],
      "execution_count": null,
      "outputs": [
        {
          "output_type": "stream",
          "text": [
            "Downloading data from https://storage.googleapis.com/tensorflow/keras-applications/resnet/resnet50_weights_tf_dim_ordering_tf_kernels_notop.h5\n",
            "94773248/94765736 [==============================] - 2s 0us/step\n"
          ],
          "name": "stdout"
        }
      ]
    },
    {
      "cell_type": "code",
      "metadata": {
        "id": "meSNTxRXqFBW"
      },
      "source": [
        "model.add(Dense(num_classes, activation='softmax'))"
      ],
      "execution_count": null,
      "outputs": []
    },
    {
      "cell_type": "code",
      "metadata": {
        "id": "u3vvZe2nqPFu"
      },
      "source": [
        "model.layers[0].trainable = False"
      ],
      "execution_count": null,
      "outputs": []
    },
    {
      "cell_type": "code",
      "metadata": {
        "id": "dvN7d3zRqThY"
      },
      "source": [
        "model.compile(optimizer='adam', loss='categorical_crossentropy', metrics=['accuracy'])"
      ],
      "execution_count": null,
      "outputs": []
    },
    {
      "cell_type": "code",
      "metadata": {
        "id": "TxYmjg2OqnhD"
      },
      "source": [
        "steps_per_epoch_training = len(train_generator)\n",
        "steps_per_epoch_validation = len(validation_generator)\n",
        "num_epochs = 5"
      ],
      "execution_count": null,
      "outputs": []
    },
    {
      "cell_type": "code",
      "metadata": {
        "colab": {
          "base_uri": "https://localhost:8080/"
        },
        "id": "a1PqtRQFq1W0",
        "outputId": "1de31cfa-b93d-4c8a-f487-f575962f90b1"
      },
      "source": [
        "fit_history = model.fit(\n",
        "    train_generator,\n",
        "    steps_per_epoch=steps_per_epoch_training,\n",
        "    epochs=num_epochs,\n",
        "    validation_data=validation_generator,\n",
        "    validation_steps=steps_per_epoch_validation,\n",
        "    verbose=1,\n",
        ")"
      ],
      "execution_count": null,
      "outputs": [
        {
          "output_type": "stream",
          "text": [
            "Epoch 1/5\n",
            "301/301 [==============================] - 146s 484ms/step - loss: 0.0115 - accuracy: 0.9964 - val_loss: 0.0088 - val_accuracy: 0.9976\n",
            "Epoch 2/5\n",
            "301/301 [==============================] - 144s 479ms/step - loss: 0.0097 - accuracy: 0.9969 - val_loss: 0.0087 - val_accuracy: 0.9976\n",
            "Epoch 3/5\n",
            "301/301 [==============================] - 144s 479ms/step - loss: 0.0093 - accuracy: 0.9970 - val_loss: 0.0072 - val_accuracy: 0.9978\n",
            "Epoch 4/5\n",
            "301/301 [==============================] - 144s 479ms/step - loss: 0.0077 - accuracy: 0.9978 - val_loss: 0.0057 - val_accuracy: 0.9978\n",
            "Epoch 5/5\n",
            "301/301 [==============================] - 144s 480ms/step - loss: 0.0057 - accuracy: 0.9985 - val_loss: 0.0055 - val_accuracy: 0.9980\n"
          ],
          "name": "stdout"
        }
      ]
    },
    {
      "cell_type": "code",
      "metadata": {
        "colab": {
          "base_uri": "https://localhost:8080/"
        },
        "id": "YmdujTTprEr2",
        "outputId": "1c00bd56-b1cd-484e-844f-5cd094da5a1c"
      },
      "source": [
        "model.save('classifier_resnet_model')"
      ],
      "execution_count": null,
      "outputs": [
        {
          "output_type": "stream",
          "text": [
            "/usr/local/lib/python3.7/dist-packages/tensorflow/python/keras/utils/generic_utils.py:497: CustomMaskWarning: Custom mask layers require a config and must override get_config. When loading, the custom mask layer must be passed to the custom_objects argument.\n",
            "  category=CustomMaskWarning)\n"
          ],
          "name": "stderr"
        },
        {
          "output_type": "stream",
          "text": [
            "INFO:tensorflow:Assets written to: classifier_resnet_model/assets\n"
          ],
          "name": "stdout"
        }
      ]
    },
    {
      "cell_type": "markdown",
      "metadata": {
        "id": "ju7yzPhEEf-W"
      },
      "source": [
        "# **VGG16 Model**"
      ]
    },
    {
      "cell_type": "code",
      "metadata": {
        "id": "PIpAtPix1ZD_"
      },
      "source": [
        "from tensorflow.keras.applications import vgg16\n",
        "from keras.applications.vgg16 import preprocess_input"
      ],
      "execution_count": null,
      "outputs": []
    },
    {
      "cell_type": "code",
      "metadata": {
        "colab": {
          "base_uri": "https://localhost:8080/"
        },
        "id": "ZM-gKQuO8LM4",
        "outputId": "45766fa4-5e77-4d72-dc6f-6ecf4a1f2cac"
      },
      "source": [
        "## get the data\n",
        "!wget https://s3-api.us-geo.objectstorage.softlayer.net/cf-courses-data/CognitiveClass/DL0321EN/data/concrete_data_week4.zip"
      ],
      "execution_count": null,
      "outputs": [
        {
          "output_type": "stream",
          "text": [
            "--2021-06-28 00:32:30--  https://s3-api.us-geo.objectstorage.softlayer.net/cf-courses-data/CognitiveClass/DL0321EN/data/concrete_data_week4.zip\n",
            "Resolving s3-api.us-geo.objectstorage.softlayer.net (s3-api.us-geo.objectstorage.softlayer.net)... 67.228.254.196\n",
            "Connecting to s3-api.us-geo.objectstorage.softlayer.net (s3-api.us-geo.objectstorage.softlayer.net)|67.228.254.196|:443... connected.\n",
            "HTTP request sent, awaiting response... 200 OK\n",
            "Length: 261483817 (249M) [application/zip]\n",
            "Saving to: ‘concrete_data_week4.zip’\n",
            "\n",
            "concrete_data_week4 100%[===================>] 249.37M  19.7MB/s    in 12s     \n",
            "\n",
            "2021-06-28 00:32:43 (20.2 MB/s) - ‘concrete_data_week4.zip’ saved [261483817/261483817]\n",
            "\n"
          ],
          "name": "stdout"
        }
      ]
    },
    {
      "cell_type": "code",
      "metadata": {
        "id": "mEnUTY9G8cFX"
      },
      "source": [
        "!unzip concrete_data_week4.zip"
      ],
      "execution_count": null,
      "outputs": []
    },
    {
      "cell_type": "code",
      "metadata": {
        "id": "lOz68_H--XHy"
      },
      "source": [
        "data_generator2 = ImageDataGenerator(\n",
        "    preprocessing_function=preprocess_input,\n",
        ")"
      ],
      "execution_count": null,
      "outputs": []
    },
    {
      "cell_type": "code",
      "metadata": {
        "colab": {
          "base_uri": "https://localhost:8080/"
        },
        "id": "lozHTUT9-epA",
        "outputId": "5fdc9632-6c39-4c10-c76e-2fbb0547b49c"
      },
      "source": [
        "train_generator2 = data_generator.flow_from_directory(\n",
        "    'concrete_data_week4/train',\n",
        "    target_size=(image_resize, image_resize),\n",
        "    batch_size=batch_size_training,\n",
        "    class_mode='categorical')"
      ],
      "execution_count": null,
      "outputs": [
        {
          "output_type": "stream",
          "text": [
            "Found 30001 images belonging to 2 classes.\n"
          ],
          "name": "stdout"
        }
      ]
    },
    {
      "cell_type": "code",
      "metadata": {
        "colab": {
          "base_uri": "https://localhost:8080/"
        },
        "id": "UTDaFYyy-iK_",
        "outputId": "98d477fd-2e14-4c4c-e1e9-5eccc267ba31"
      },
      "source": [
        "validation_generator2 = data_generator.flow_from_directory(\n",
        "    'concrete_data_week4/valid',\n",
        "    target_size=(image_resize, image_resize),\n",
        "    batch_size=batch_size_training,\n",
        "    class_mode='categorical')"
      ],
      "execution_count": null,
      "outputs": [
        {
          "output_type": "stream",
          "text": [
            "Found 9501 images belonging to 2 classes.\n"
          ],
          "name": "stdout"
        }
      ]
    },
    {
      "cell_type": "code",
      "metadata": {
        "id": "TorPg2cRryus"
      },
      "source": [
        "model2 = Sequential()"
      ],
      "execution_count": null,
      "outputs": []
    },
    {
      "cell_type": "code",
      "metadata": {
        "colab": {
          "base_uri": "https://localhost:8080/"
        },
        "id": "NY0h--SD1UZ9",
        "outputId": "ffeae76f-e4a0-45e0-d0db-ec0846492b68"
      },
      "source": [
        "model2.add(vgg16.VGG16(\n",
        "    include_top=False,\n",
        "    pooling='avg',\n",
        "    weights='imagenet'\n",
        "    ))"
      ],
      "execution_count": null,
      "outputs": [
        {
          "output_type": "stream",
          "text": [
            "Downloading data from https://storage.googleapis.com/tensorflow/keras-applications/vgg16/vgg16_weights_tf_dim_ordering_tf_kernels_notop.h5\n",
            "58892288/58889256 [==============================] - 1s 0us/step\n"
          ],
          "name": "stdout"
        }
      ]
    },
    {
      "cell_type": "code",
      "metadata": {
        "id": "lQGOLqlr1zkS"
      },
      "source": [
        "model2.add(Dense(num_classes, activation='softmax'))"
      ],
      "execution_count": null,
      "outputs": []
    },
    {
      "cell_type": "code",
      "metadata": {
        "id": "xC-sEciz3ENp"
      },
      "source": [
        "model2.layers[0].trainable = False"
      ],
      "execution_count": null,
      "outputs": []
    },
    {
      "cell_type": "code",
      "metadata": {
        "id": "exE3mh9E3HgV"
      },
      "source": [
        "model2.compile(optimizer='adam', loss='categorical_crossentropy', metrics=['accuracy'])"
      ],
      "execution_count": null,
      "outputs": []
    },
    {
      "cell_type": "code",
      "metadata": {
        "id": "eu5aMFKu3Obd"
      },
      "source": [
        "steps_per_epoch_training = len(train_generator)\n",
        "steps_per_epoch_validation = len(validation_generator)\n",
        "num_epochs = 5"
      ],
      "execution_count": null,
      "outputs": []
    },
    {
      "cell_type": "code",
      "metadata": {
        "colab": {
          "base_uri": "https://localhost:8080/"
        },
        "id": "BLXlO2jW3Rnf",
        "outputId": "51424007-29b5-4f98-e4b5-821c561f6d27"
      },
      "source": [
        "fit_history2 = model2.fit(\n",
        "    train_generator2,\n",
        "    steps_per_epoch=steps_per_epoch_training,\n",
        "    epochs=num_epochs,\n",
        "    validation_data=validation_generator2,\n",
        "    validation_steps=steps_per_epoch_validation,\n",
        "    verbose=1,\n",
        ")"
      ],
      "execution_count": null,
      "outputs": [
        {
          "output_type": "stream",
          "text": [
            "Epoch 1/5\n",
            "301/301 [==============================] - 136s 451ms/step - loss: 0.0069 - accuracy: 0.9984\n",
            "Epoch 2/5\n",
            "301/301 [==============================] - 136s 452ms/step - loss: 0.0062 - accuracy: 0.9985\n",
            "Epoch 3/5\n",
            "301/301 [==============================] - 136s 451ms/step - loss: 0.0056 - accuracy: 0.9988\n",
            "Epoch 4/5\n",
            "301/301 [==============================] - 136s 452ms/step - loss: 0.0051 - accuracy: 0.9988\n",
            "Epoch 5/5\n",
            "301/301 [==============================] - 136s 451ms/step - loss: 0.0048 - accuracy: 0.9991\n"
          ],
          "name": "stdout"
        }
      ]
    },
    {
      "cell_type": "markdown",
      "metadata": {
        "id": "r0WFlXZnSGQA"
      },
      "source": [
        "# **Evaluate Generator**"
      ]
    },
    {
      "cell_type": "code",
      "metadata": {
        "colab": {
          "base_uri": "https://localhost:8080/"
        },
        "id": "TiJBrozt3Yn2",
        "outputId": "e6311f97-5481-4a05-cfae-37d5319008ed"
      },
      "source": [
        " evaluate_generator = data_generator.flow_from_directory(\n",
        "    'concrete_data_week4/test',\n",
        "    target_size=(image_resize, image_resize),\n",
        "    batch_size=batch_size_training,\n",
        "    class_mode='categorical',\n",
        "    shuffle=False)"
      ],
      "execution_count": null,
      "outputs": [
        {
          "output_type": "stream",
          "text": [
            "Found 500 images belonging to 2 classes.\n"
          ],
          "name": "stdout"
        }
      ]
    },
    {
      "cell_type": "code",
      "metadata": {
        "id": "5-vpG4L1QTlE"
      },
      "source": [
        "steps_evaluating = len(evaluate_generator)"
      ],
      "execution_count": null,
      "outputs": []
    },
    {
      "cell_type": "markdown",
      "metadata": {
        "id": "okd5A1kkSQXl"
      },
      "source": [
        "## **Restnet50 Evaluate**"
      ]
    },
    {
      "cell_type": "code",
      "metadata": {
        "colab": {
          "base_uri": "https://localhost:8080/"
        },
        "id": "Xtj7_DqvPQu8",
        "outputId": "f8ed699b-1b96-42fa-ea36-87f4ac638b57"
      },
      "source": [
        "evaluate_restnet50 = model.evaluate(\n",
        "    evaluate_generator,\n",
        "    steps=steps_evaluating,\n",
        "    batch_size=100,\n",
        "    verbose=1\n",
        ")"
      ],
      "execution_count": null,
      "outputs": [
        {
          "output_type": "stream",
          "text": [
            "5/5 [==============================] - 2s 311ms/step - loss: 3.0258e-04 - accuracy: 1.0000\n"
          ],
          "name": "stdout"
        }
      ]
    },
    {
      "cell_type": "markdown",
      "metadata": {
        "id": "2nFXkWOpSVe1"
      },
      "source": [
        "## **VGG16 Evaluate**"
      ]
    },
    {
      "cell_type": "code",
      "metadata": {
        "colab": {
          "base_uri": "https://localhost:8080/"
        },
        "id": "S8wT3iowRulp",
        "outputId": "f3a4d5b0-8eb2-473d-f67e-3e938a9e2de7"
      },
      "source": [
        "evaluate_vgg16 = model2.evaluate(\n",
        "    evaluate_generator,\n",
        "    steps=steps_evaluating,\n",
        "    batch_size=100,\n",
        "    verbose=1\n",
        ")"
      ],
      "execution_count": null,
      "outputs": [
        {
          "output_type": "stream",
          "text": [
            "5/5 [==============================] - 2s 405ms/step - loss: 0.0045 - accuracy: 1.0000\n"
          ],
          "name": "stdout"
        }
      ]
    },
    {
      "cell_type": "markdown",
      "metadata": {
        "id": "a9cLTkL5Ss1u"
      },
      "source": [
        "## **Evaluate Result**\n",
        "### **Restnet50**\n",
        "Using **CPU** time for per epoch running takes about **2 hours**\\\n",
        "Using **GPU** time for per epoch running takes about **144 seconds**\\\n",
        "**Training Accuracy** is **99.85%**\\\n",
        "**Test Accuracy** is **100%** and Test Loss is **3.0258e-04**\n",
        "\n",
        "\n",
        "### **VGG16**\n",
        "Using **CPU** time for per epoch running takes about **4 hours**\\\n",
        "Using **GPU** time for per epoch running takes about **136 seconds**\\\n",
        "**Training Accuracy** is **99.91%**\\\n",
        "**Test Accuracy** is **100%** and Test Loss is **0.0045**\n",
        "\n",
        "Using CPU Restnet50 has shorter time than VGG16, while using GPU Restnet50 has longer time than VGG16. VGG16 Training Accuracy has higher value while VGG16 Loss has bigger value.\n",
        "\n",
        "### **Summary**\n",
        "\n",
        "The result between both model for this data is almost the same. But if we compare from the CPU vs GPU performance. In this model for this data VGG16 has better pararel performance. It shows from GPU Performance that has shorter time to fit the model. But if the model run on the CPU (Not focusing on pararel) VGG16 need twice time to fit the model than the Restnet50.\n"
      ]
    },
    {
      "cell_type": "markdown",
      "metadata": {
        "id": "72DVVA-TV053"
      },
      "source": [
        "# **Print 5 Predict Result From Test Dataset**"
      ]
    },
    {
      "cell_type": "code",
      "metadata": {
        "id": "e1z_s293Wwu-"
      },
      "source": [
        "Test5 = [file for file in os.listdir('concrete_data_week4/test')[:5]]"
      ],
      "execution_count": null,
      "outputs": []
    },
    {
      "cell_type": "code",
      "metadata": {
        "id": "EeTgsIC7Wrti"
      },
      "source": [
        " evaluate_generator = data_generator.flow_from_directory(\n",
        "    'concrete_data_week4/test',\n",
        "    target_size=(image_resize, image_resize),\n",
        "    batch_size=batch_size_training,\n",
        "    class_mode='categorical',"
      ],
      "execution_count": null,
      "outputs": []
    },
    {
      "cell_type": "markdown",
      "metadata": {
        "id": "-eLkRQBDbc3-"
      },
      "source": [
        "## **Print 5 Predict Result Using Restnet 50 Model**"
      ]
    },
    {
      "cell_type": "code",
      "metadata": {
        "colab": {
          "base_uri": "https://localhost:8080/"
        },
        "id": "buE2Omy7SeCn",
        "outputId": "55d10fee-4df5-422f-9a5c-b3aa62e87f46"
      },
      "source": [
        "predict_restnet50 = model.predict(\n",
        "    evaluate_generator, verbose=1\n",
        ")\n",
        "\n",
        "\n"
      ],
      "execution_count": null,
      "outputs": [
        {
          "output_type": "stream",
          "text": [
            "5/5 [==============================] - 3s 377ms/step\n"
          ],
          "name": "stdout"
        }
      ]
    },
    {
      "cell_type": "code",
      "metadata": {
        "colab": {
          "base_uri": "https://localhost:8080/"
        },
        "id": "zeXDUL2PX8X3",
        "outputId": "a1737616-62ba-4f52-cd99-89e7c7b0cc1a"
      },
      "source": [
        "for x in predict_restnet50[:5]:\n",
        "    if int(x[0].round()) == 1:\n",
        "        print('Negative')\n",
        "    else:\n",
        "        print('Positive')\n"
      ],
      "execution_count": null,
      "outputs": [
        {
          "output_type": "stream",
          "text": [
            "Negative\n",
            "Negative\n",
            "Negative\n",
            "Negative\n",
            "Negative\n"
          ],
          "name": "stdout"
        }
      ]
    },
    {
      "cell_type": "markdown",
      "metadata": {
        "id": "fD8dDuVRbk5w"
      },
      "source": [
        "## **Print 5 Predict Result Using VGG16 Model**"
      ]
    },
    {
      "cell_type": "code",
      "metadata": {
        "colab": {
          "base_uri": "https://localhost:8080/"
        },
        "id": "j9T2r1GEYBX7",
        "outputId": "e0d1dc18-82ee-4f14-8cab-5cd650cc0cc7"
      },
      "source": [
        "predict_vgg16 = model2.predict(\n",
        "    evaluate_generator, verbose=1\n",
        ")\n",
        "\n",
        "\n"
      ],
      "execution_count": null,
      "outputs": [
        {
          "output_type": "stream",
          "text": [
            "5/5 [==============================] - 3s 558ms/step\n"
          ],
          "name": "stdout"
        }
      ]
    },
    {
      "cell_type": "code",
      "metadata": {
        "colab": {
          "base_uri": "https://localhost:8080/"
        },
        "id": "YYjsRgy8bp5Q",
        "outputId": "c48397f4-2d9b-467f-8e1d-ceb2216bb8ef"
      },
      "source": [
        "for x in predict_vgg16[:5]:\n",
        "    if int(x[0].round()) == 1:\n",
        "        print('Negative')\n",
        "    else:\n",
        "        print('Positive')\n"
      ],
      "execution_count": null,
      "outputs": [
        {
          "output_type": "stream",
          "text": [
            "Negative\n",
            "Negative\n",
            "Negative\n",
            "Negative\n",
            "Negative\n"
          ],
          "name": "stdout"
        }
      ]
    },
    {
      "cell_type": "code",
      "metadata": {
        "id": "cLFiVvUVbsn-"
      },
      "source": [
        ""
      ],
      "execution_count": null,
      "outputs": []
    }
  ]
}