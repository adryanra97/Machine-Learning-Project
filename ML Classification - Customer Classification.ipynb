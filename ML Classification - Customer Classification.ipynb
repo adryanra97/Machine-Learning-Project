{
  "nbformat": 4,
  "nbformat_minor": 0,
  "metadata": {
    "colab": {
      "name": "Untitled1.ipynb",
      "provenance": [],
      "toc_visible": true
    },
    "kernelspec": {
      "name": "python3",
      "display_name": "Python 3"
    }
  },
  "cells": [
    {
      "cell_type": "markdown",
      "metadata": {
        "id": "gXGnaHLCUGAU"
      },
      "source": [
        "# **Machine Learning Classification**"
      ]
    },
    {
      "cell_type": "markdown",
      "metadata": {
        "id": "AbcMBzMdUNwP"
      },
      "source": [
        "In this Project I will using this dataset from kaggle:\r\n",
        "https://www.kaggle.com/vjchoudhary7/customer-segmentation-tutorial-in-python"
      ]
    },
    {
      "cell_type": "markdown",
      "metadata": {
        "id": "zpvDiv5tWJmT"
      },
      "source": [
        "Using different Model:\r\n",
        "*   KMeans\r\n",
        "*   Agglomerative Clustering\r\n",
        "*   DBSCAN\r\n",
        "*   Mean Shift\r\n",
        "\r\n",
        "All of model will be imported from sklearn.cluster libray\r\n",
        "\r\n",
        "\r\n",
        "\r\n",
        "\r\n"
      ]
    },
    {
      "cell_type": "markdown",
      "metadata": {
        "id": "5qv9AwqJWj80"
      },
      "source": [
        "I will import the libray"
      ]
    },
    {
      "cell_type": "code",
      "metadata": {
        "id": "PqQCeDQIThu0"
      },
      "source": [
        "import pandas as pd\r\n",
        "import numpy as np\r\n",
        "import matplotlib.pyplot as plt\r\n",
        "import seaborn as sns\r\n",
        "from sklearn.preprocessing import StandardScaler, MinMaxScaler\r\n",
        "from sklearn.cluster import KMeans, AgglomerativeClustering, DBSCAN, MeanShift"
      ],
      "execution_count": null,
      "outputs": []
    },
    {
      "cell_type": "markdown",
      "metadata": {
        "id": "WdKHk7-bWmoZ"
      },
      "source": [
        "## Import The Datase"
      ]
    },
    {
      "cell_type": "code",
      "metadata": {
        "id": "clGCXdv-Tj0a"
      },
      "source": [
        "data=pd.read_csv('/content/Mall_Customers.csv')"
      ],
      "execution_count": null,
      "outputs": []
    },
    {
      "cell_type": "markdown",
      "metadata": {
        "id": "ehyhWPvxWs7g"
      },
      "source": [
        "Using .head() to look at the data"
      ]
    },
    {
      "cell_type": "code",
      "metadata": {
        "colab": {
          "base_uri": "https://localhost:8080/",
          "height": 202
        },
        "id": "L1xsNCTLU348",
        "outputId": "438cebfc-e104-4343-fe81-28a890341db3"
      },
      "source": [
        "data.head()"
      ],
      "execution_count": null,
      "outputs": [
        {
          "output_type": "execute_result",
          "data": {
            "text/html": [
              "<div>\n",
              "<style scoped>\n",
              "    .dataframe tbody tr th:only-of-type {\n",
              "        vertical-align: middle;\n",
              "    }\n",
              "\n",
              "    .dataframe tbody tr th {\n",
              "        vertical-align: top;\n",
              "    }\n",
              "\n",
              "    .dataframe thead th {\n",
              "        text-align: right;\n",
              "    }\n",
              "</style>\n",
              "<table border=\"1\" class=\"dataframe\">\n",
              "  <thead>\n",
              "    <tr style=\"text-align: right;\">\n",
              "      <th></th>\n",
              "      <th>CustomerID</th>\n",
              "      <th>Gender</th>\n",
              "      <th>Age</th>\n",
              "      <th>Annual Income (k$)</th>\n",
              "      <th>Spending Score (1-100)</th>\n",
              "    </tr>\n",
              "  </thead>\n",
              "  <tbody>\n",
              "    <tr>\n",
              "      <th>0</th>\n",
              "      <td>1</td>\n",
              "      <td>Male</td>\n",
              "      <td>19</td>\n",
              "      <td>15</td>\n",
              "      <td>39</td>\n",
              "    </tr>\n",
              "    <tr>\n",
              "      <th>1</th>\n",
              "      <td>2</td>\n",
              "      <td>Male</td>\n",
              "      <td>21</td>\n",
              "      <td>15</td>\n",
              "      <td>81</td>\n",
              "    </tr>\n",
              "    <tr>\n",
              "      <th>2</th>\n",
              "      <td>3</td>\n",
              "      <td>Female</td>\n",
              "      <td>20</td>\n",
              "      <td>16</td>\n",
              "      <td>6</td>\n",
              "    </tr>\n",
              "    <tr>\n",
              "      <th>3</th>\n",
              "      <td>4</td>\n",
              "      <td>Female</td>\n",
              "      <td>23</td>\n",
              "      <td>16</td>\n",
              "      <td>77</td>\n",
              "    </tr>\n",
              "    <tr>\n",
              "      <th>4</th>\n",
              "      <td>5</td>\n",
              "      <td>Female</td>\n",
              "      <td>31</td>\n",
              "      <td>17</td>\n",
              "      <td>40</td>\n",
              "    </tr>\n",
              "  </tbody>\n",
              "</table>\n",
              "</div>"
            ],
            "text/plain": [
              "   CustomerID  Gender  Age  Annual Income (k$)  Spending Score (1-100)\n",
              "0           1    Male   19                  15                      39\n",
              "1           2    Male   21                  15                      81\n",
              "2           3  Female   20                  16                       6\n",
              "3           4  Female   23                  16                      77\n",
              "4           5  Female   31                  17                      40"
            ]
          },
          "metadata": {
            "tags": []
          },
          "execution_count": 86
        }
      ]
    },
    {
      "cell_type": "markdown",
      "metadata": {
        "id": "nyHNbMF-n4hV"
      },
      "source": [
        "## Exploratory Data Analysis"
      ]
    },
    {
      "cell_type": "code",
      "metadata": {
        "colab": {
          "base_uri": "https://localhost:8080/"
        },
        "id": "kVaBXEK0U42c",
        "outputId": "1f7b04fa-a844-4aea-fe3e-db86ae6275ba"
      },
      "source": [
        "data.info()"
      ],
      "execution_count": null,
      "outputs": [
        {
          "output_type": "stream",
          "text": [
            "<class 'pandas.core.frame.DataFrame'>\n",
            "RangeIndex: 200 entries, 0 to 199\n",
            "Data columns (total 5 columns):\n",
            " #   Column                  Non-Null Count  Dtype \n",
            "---  ------                  --------------  ----- \n",
            " 0   CustomerID              200 non-null    int64 \n",
            " 1   Gender                  200 non-null    object\n",
            " 2   Age                     200 non-null    int64 \n",
            " 3   Annual Income (k$)      200 non-null    int64 \n",
            " 4   Spending Score (1-100)  200 non-null    int64 \n",
            "dtypes: int64(4), object(1)\n",
            "memory usage: 7.9+ KB\n"
          ],
          "name": "stdout"
        }
      ]
    },
    {
      "cell_type": "markdown",
      "metadata": {
        "id": "2ImunbqTW3sC"
      },
      "source": [
        "Using .info() to explore the data, we got:\r\n",
        "\r\n",
        "\r\n",
        "1.   There are 5 Columns\r\n",
        "2.   There are 200 rows\r\n",
        "3.   All columns are non-null\r\n",
        "4.   There are 4 columns with int type (CustomerID,Age,Annual Income,Spending Score\r\n",
        "1.   There is 1 column with object type (Gender)\r\n",
        "2.   File using 7.9 KB of memory\r\n",
        "\r\n",
        "\r\n",
        "\r\n",
        "\r\n"
      ]
    },
    {
      "cell_type": "code",
      "metadata": {
        "colab": {
          "base_uri": "https://localhost:8080/"
        },
        "id": "orhV9GfiXqp6",
        "outputId": "7311ba33-96dd-4ebf-b34c-9b845886d2f8"
      },
      "source": [
        "data.Gender.value_counts()"
      ],
      "execution_count": null,
      "outputs": [
        {
          "output_type": "execute_result",
          "data": {
            "text/plain": [
              "Female    112\n",
              "Male       88\n",
              "Name: Gender, dtype: int64"
            ]
          },
          "metadata": {
            "tags": []
          },
          "execution_count": 88
        }
      ]
    },
    {
      "cell_type": "markdown",
      "metadata": {
        "id": "9OGBgc8nX_CC"
      },
      "source": [
        "In Gender Column we have to 2 unique value male and female "
      ]
    },
    {
      "cell_type": "code",
      "metadata": {
        "colab": {
          "base_uri": "https://localhost:8080/"
        },
        "id": "jK5d9R59YMu4",
        "outputId": "34a3597e-a38d-4645-920b-49c1e65ccb85"
      },
      "source": [
        "data.Gender.value_counts(normalize=True)"
      ],
      "execution_count": null,
      "outputs": [
        {
          "output_type": "execute_result",
          "data": {
            "text/plain": [
              "Female    0.56\n",
              "Male      0.44\n",
              "Name: Gender, dtype: float64"
            ]
          },
          "metadata": {
            "tags": []
          },
          "execution_count": 89
        }
      ]
    },
    {
      "cell_type": "markdown",
      "metadata": {
        "id": "1coWMZwjYPv-"
      },
      "source": [
        "And the proportion of female is 56% while Male is 44%, Lets take a look at the visualize data"
      ]
    },
    {
      "cell_type": "code",
      "metadata": {
        "colab": {
          "base_uri": "https://localhost:8080/",
          "height": 387
        },
        "id": "x90fNFQBYXlO",
        "outputId": "56f8878d-909c-4846-cba8-c57d38f8de3a"
      },
      "source": [
        "sns.displot(data.Gender)"
      ],
      "execution_count": null,
      "outputs": [
        {
          "output_type": "execute_result",
          "data": {
            "text/plain": [
              "<seaborn.axisgrid.FacetGrid at 0x7f02609113c8>"
            ]
          },
          "metadata": {
            "tags": []
          },
          "execution_count": 90
        },
        {
          "output_type": "display_data",
          "data": {
            "image/png": "[encoded data removed]",
            "text/plain": [
              "<Figure size 360x360 with 1 Axes>"
            ]
          },
          "metadata": {
            "tags": [],
            "needs_background": "light"
          }
        }
      ]
    },
    {
      "cell_type": "markdown",
      "metadata": {
        "id": "Bym4NBTnYxkM"
      },
      "source": [
        "How about the Age column"
      ]
    },
    {
      "cell_type": "code",
      "metadata": {
        "colab": {
          "base_uri": "https://localhost:8080/",
          "height": 387
        },
        "id": "oQtRp8ViYza7",
        "outputId": "2d1194ce-c3ce-4d87-d979-de40f5072b90"
      },
      "source": [
        "sns.displot(data=data,x='Age',hue='Gender',multiple=\"stack\",kde=True)"
      ],
      "execution_count": null,
      "outputs": [
        {
          "output_type": "execute_result",
          "data": {
            "text/plain": [
              "<seaborn.axisgrid.FacetGrid at 0x7f0262e80208>"
            ]
          },
          "metadata": {
            "tags": []
          },
          "execution_count": 46
        },
        {
          "output_type": "display_data",
          "data": {
            "image/png": "[encoded data removed]",
            "text/plain": [
              "<Figure size 432.125x360 with 1 Axes>"
            ]
          },
          "metadata": {
            "tags": [],
            "needs_background": "light"
          }
        }
      ]
    },
    {
      "cell_type": "markdown",
      "metadata": {
        "id": "0-qrOwB_oYuB"
      },
      "source": [
        "The Distribution is right skewed, while at it, lets check skew for all column"
      ]
    },
    {
      "cell_type": "markdown",
      "metadata": {
        "id": "C2WlsWzXo8vs"
      },
      "source": [
        "Before that, I will drop the customerid column "
      ]
    },
    {
      "cell_type": "code",
      "metadata": {
        "colab": {
          "base_uri": "https://localhost:8080/"
        },
        "id": "L4uE2I6kpAqF",
        "outputId": "c2941a9a-0236-43ae-de19-67ce084f67d7"
      },
      "source": [
        "data.columns"
      ],
      "execution_count": null,
      "outputs": [
        {
          "output_type": "execute_result",
          "data": {
            "text/plain": [
              "Index(['CustomerID', 'Gender', 'Age', 'Annual Income (k$)',\n",
              "       'Spending Score (1-100)'],\n",
              "      dtype='object')"
            ]
          },
          "metadata": {
            "tags": []
          },
          "execution_count": 91
        }
      ]
    },
    {
      "cell_type": "code",
      "metadata": {
        "id": "ve_khMe2pMB-"
      },
      "source": [
        "data=data.drop(columns='CustomerID',axis=1)"
      ],
      "execution_count": null,
      "outputs": []
    },
    {
      "cell_type": "markdown",
      "metadata": {
        "id": "FTJQ1bIgpQ6J"
      },
      "source": [
        "Now, for Skewed Column"
      ]
    },
    {
      "cell_type": "code",
      "metadata": {
        "colab": {
          "base_uri": "https://localhost:8080/"
        },
        "id": "ndwTlQyiok1f",
        "outputId": "0aa2c788-39ac-4240-cb5e-c4dd9c7dfd1b"
      },
      "source": [
        "num_col=[x for x in data.columns if x not in ['Gender']]\r\n",
        "skew_col=data[num_col].skew().sort_values(ascending=False)\r\n",
        "skew_col"
      ],
      "execution_count": null,
      "outputs": [
        {
          "output_type": "execute_result",
          "data": {
            "text/plain": [
              "Age                       0.485569\n",
              "Annual Income (k$)        0.321843\n",
              "Spending Score (1-100)   -0.047220\n",
              "dtype: float64"
            ]
          },
          "metadata": {
            "tags": []
          },
          "execution_count": 93
        }
      ]
    },
    {
      "cell_type": "markdown",
      "metadata": {
        "id": "5lATujD0qLb_"
      },
      "source": [
        "Its less than 0.5 so I decided to ignore the skewness "
      ]
    },
    {
      "cell_type": "markdown",
      "metadata": {
        "id": "T_apVlD8qTnl"
      },
      "source": [
        "Transform the gender from object to int"
      ]
    },
    {
      "cell_type": "code",
      "metadata": {
        "id": "eXgymcyVU9GA"
      },
      "source": [
        "data['Gender']=data['Gender'].replace('Male',1)\r\n",
        "data['Gender']=data['Gender'].replace('Female',0)"
      ],
      "execution_count": null,
      "outputs": []
    },
    {
      "cell_type": "code",
      "metadata": {
        "colab": {
          "base_uri": "https://localhost:8080/",
          "height": 202
        },
        "id": "geVid9y3VMXk",
        "outputId": "22ccbb28-fcdb-4f75-c96d-3e4fe27e62ca"
      },
      "source": [
        "data.head()"
      ],
      "execution_count": null,
      "outputs": [
        {
          "output_type": "execute_result",
          "data": {
            "text/html": [
              "<div>\n",
              "<style scoped>\n",
              "    .dataframe tbody tr th:only-of-type {\n",
              "        vertical-align: middle;\n",
              "    }\n",
              "\n",
              "    .dataframe tbody tr th {\n",
              "        vertical-align: top;\n",
              "    }\n",
              "\n",
              "    .dataframe thead th {\n",
              "        text-align: right;\n",
              "    }\n",
              "</style>\n",
              "<table border=\"1\" class=\"dataframe\">\n",
              "  <thead>\n",
              "    <tr style=\"text-align: right;\">\n",
              "      <th></th>\n",
              "      <th>Gender</th>\n",
              "      <th>Age</th>\n",
              "      <th>Annual Income (k$)</th>\n",
              "      <th>Spending Score (1-100)</th>\n",
              "    </tr>\n",
              "  </thead>\n",
              "  <tbody>\n",
              "    <tr>\n",
              "      <th>0</th>\n",
              "      <td>1</td>\n",
              "      <td>19</td>\n",
              "      <td>15</td>\n",
              "      <td>39</td>\n",
              "    </tr>\n",
              "    <tr>\n",
              "      <th>1</th>\n",
              "      <td>1</td>\n",
              "      <td>21</td>\n",
              "      <td>15</td>\n",
              "      <td>81</td>\n",
              "    </tr>\n",
              "    <tr>\n",
              "      <th>2</th>\n",
              "      <td>0</td>\n",
              "      <td>20</td>\n",
              "      <td>16</td>\n",
              "      <td>6</td>\n",
              "    </tr>\n",
              "    <tr>\n",
              "      <th>3</th>\n",
              "      <td>0</td>\n",
              "      <td>23</td>\n",
              "      <td>16</td>\n",
              "      <td>77</td>\n",
              "    </tr>\n",
              "    <tr>\n",
              "      <th>4</th>\n",
              "      <td>0</td>\n",
              "      <td>31</td>\n",
              "      <td>17</td>\n",
              "      <td>40</td>\n",
              "    </tr>\n",
              "  </tbody>\n",
              "</table>\n",
              "</div>"
            ],
            "text/plain": [
              "   Gender  Age  Annual Income (k$)  Spending Score (1-100)\n",
              "0       1   19                  15                      39\n",
              "1       1   21                  15                      81\n",
              "2       0   20                  16                       6\n",
              "3       0   23                  16                      77\n",
              "4       0   31                  17                      40"
            ]
          },
          "metadata": {
            "tags": []
          },
          "execution_count": 96
        }
      ]
    },
    {
      "cell_type": "code",
      "metadata": {
        "id": "BtKRXsFeVTa_",
        "colab": {
          "base_uri": "https://localhost:8080/",
          "height": 567
        },
        "outputId": "4999fab0-7ec1-49e2-9abf-95a214a1b9f1"
      },
      "source": [
        "sns.pairplot(data=data,hue='Gender')"
      ],
      "execution_count": null,
      "outputs": [
        {
          "output_type": "execute_result",
          "data": {
            "text/plain": [
              "<seaborn.axisgrid.PairGrid at 0x7f0260e19da0>"
            ]
          },
          "metadata": {
            "tags": []
          },
          "execution_count": 97
        },
        {
          "output_type": "display_data",
          "data": {
            "image/png": "[encoded data removed]",
            "text/plain": [
              "<Figure size 584.875x540 with 12 Axes>"
            ]
          },
          "metadata": {
            "tags": [],
            "needs_background": "light"
          }
        }
      ]
    },
    {
      "cell_type": "markdown",
      "metadata": {
        "id": "jZP4B6Erqw57"
      },
      "source": [
        "Lets check if the data has outlier in it"
      ]
    },
    {
      "cell_type": "code",
      "metadata": {
        "colab": {
          "base_uri": "https://localhost:8080/"
        },
        "id": "D37U_JGpspue",
        "outputId": "1df1721c-33a6-422a-85f9-bfa528345228"
      },
      "source": [
        "data.columns"
      ],
      "execution_count": null,
      "outputs": [
        {
          "output_type": "execute_result",
          "data": {
            "text/plain": [
              "Index(['Gender', 'Age', 'Annual Income (k$)', 'Spending Score (1-100)'], dtype='object')"
            ]
          },
          "metadata": {
            "tags": []
          },
          "execution_count": 98
        }
      ]
    },
    {
      "cell_type": "code",
      "metadata": {
        "colab": {
          "base_uri": "https://localhost:8080/",
          "height": 351
        },
        "id": "G8pfEalIqhjK",
        "outputId": "3ddb265a-6523-48d7-a53a-1e93856c07a7"
      },
      "source": [
        "sns.boxplot(data['Age'])"
      ],
      "execution_count": null,
      "outputs": [
        {
          "output_type": "stream",
          "text": [
            "/usr/local/lib/python3.6/dist-packages/seaborn/_decorators.py:43: FutureWarning: Pass the following variable as a keyword arg: x. From version 0.12, the only valid positional argument will be `data`, and passing other arguments without an explicit keyword will result in an error or misinterpretation.\n",
            "  FutureWarning\n"
          ],
          "name": "stderr"
        },
        {
          "output_type": "execute_result",
          "data": {
            "text/plain": [
              "<matplotlib.axes._subplots.AxesSubplot at 0x7f025fc415f8>"
            ]
          },
          "metadata": {
            "tags": []
          },
          "execution_count": 99
        },
        {
          "output_type": "display_data",
          "data": {
            "image/png": "[encoded data removed]",
            "text/plain": [
              "<Figure size 432x288 with 1 Axes>"
            ]
          },
          "metadata": {
            "tags": [],
            "needs_background": "light"
          }
        }
      ]
    },
    {
      "cell_type": "code",
      "metadata": {
        "colab": {
          "base_uri": "https://localhost:8080/",
          "height": 351
        },
        "id": "RtHnVAc5rTKq",
        "outputId": "84e40523-07fc-48dc-eb9e-7967690bd69b"
      },
      "source": [
        "sns.boxplot(data['Annual Income (k$)'])"
      ],
      "execution_count": null,
      "outputs": [
        {
          "output_type": "stream",
          "text": [
            "/usr/local/lib/python3.6/dist-packages/seaborn/_decorators.py:43: FutureWarning: Pass the following variable as a keyword arg: x. From version 0.12, the only valid positional argument will be `data`, and passing other arguments without an explicit keyword will result in an error or misinterpretation.\n",
            "  FutureWarning\n"
          ],
          "name": "stderr"
        },
        {
          "output_type": "execute_result",
          "data": {
            "text/plain": [
              "<matplotlib.axes._subplots.AxesSubplot at 0x7f025ffa4e80>"
            ]
          },
          "metadata": {
            "tags": []
          },
          "execution_count": 100
        },
        {
          "output_type": "display_data",
          "data": {
            "image/png": "[encoded data removed]",
            "text/plain": [
              "<Figure size 432x288 with 1 Axes>"
            ]
          },
          "metadata": {
            "tags": [],
            "needs_background": "light"
          }
        }
      ]
    },
    {
      "cell_type": "code",
      "metadata": {
        "colab": {
          "base_uri": "https://localhost:8080/",
          "height": 351
        },
        "id": "x1cLR4iQsh0s",
        "outputId": "7a58a842-bde7-491d-cf00-eb44193e96e3"
      },
      "source": [
        "sns.boxplot(data['Spending Score (1-100)'])"
      ],
      "execution_count": null,
      "outputs": [
        {
          "output_type": "stream",
          "text": [
            "/usr/local/lib/python3.6/dist-packages/seaborn/_decorators.py:43: FutureWarning: Pass the following variable as a keyword arg: x. From version 0.12, the only valid positional argument will be `data`, and passing other arguments without an explicit keyword will result in an error or misinterpretation.\n",
            "  FutureWarning\n"
          ],
          "name": "stderr"
        },
        {
          "output_type": "execute_result",
          "data": {
            "text/plain": [
              "<matplotlib.axes._subplots.AxesSubplot at 0x7f025fbd9198>"
            ]
          },
          "metadata": {
            "tags": []
          },
          "execution_count": 101
        },
        {
          "output_type": "display_data",
          "data": {
            "image/png": "[encoded data removed]",
            "text/plain": [
              "<Figure size 432x288 with 1 Axes>"
            ]
          },
          "metadata": {
            "tags": [],
            "needs_background": "light"
          }
        }
      ]
    },
    {
      "cell_type": "markdown",
      "metadata": {
        "id": "x4xg8cRPs9ci"
      },
      "source": [
        "There are some outlier in the Data"
      ]
    },
    {
      "cell_type": "markdown",
      "metadata": {
        "id": "8FRjScjdtSqv"
      },
      "source": [
        "## Using Machine Learning Clustering"
      ]
    },
    {
      "cell_type": "markdown",
      "metadata": {
        "id": "b3vSw6Cq5ZNN"
      },
      "source": [
        "### KMeans"
      ]
    },
    {
      "cell_type": "code",
      "metadata": {
        "id": "oqfjOXk-tYqQ"
      },
      "source": [
        "Inertia_score=[]\r\n",
        "n_number=list(range(1,101))\r\n",
        "for x in range (1,101):\r\n",
        "  kmeans=KMeans(n_clusters=x)\r\n",
        "  kmeans.fit(data)\r\n",
        "  Inertia_score.append(kmeans.inertia_)\r\n"
      ],
      "execution_count": 117,
      "outputs": []
    },
    {
      "cell_type": "code",
      "metadata": {
        "colab": {
          "base_uri": "https://localhost:8080/",
          "height": 283
        },
        "id": "eBfp4G3gtoLb",
        "outputId": "e4c92f2b-0127-4759-bbed-16f0a1c17157"
      },
      "source": [
        "plt.plot(n_number,Inertia_score)\r\n",
        "plt.scatter(n_number,Inertia_score)"
      ],
      "execution_count": 121,
      "outputs": [
        {
          "output_type": "display_data",
          "data": {
            "image/png": "[encoded data removed]",
            "text/plain": [
              "<Figure size 432x288 with 1 Axes>"
            ]
          },
          "metadata": {
            "tags": [],
            "needs_background": "light"
          }
        },
        {
          "output_type": "display_data",
          "data": {
            "text/plain": [
              "<Figure size 2160x1440 with 0 Axes>"
            ]
          },
          "metadata": {
            "tags": []
          }
        }
      ]
    },
    {
      "cell_type": "markdown",
      "metadata": {
        "id": "dvQQjoWXxsuy"
      },
      "source": [
        "Lets try again but using less n input"
      ]
    },
    {
      "cell_type": "code",
      "metadata": {
        "id": "AQO_0VY8uZWc"
      },
      "source": [
        "Inertia_score=[]\r\n",
        "n_number=list(range(1,21))\r\n",
        "for x in range (1,21):\r\n",
        "  kmeans=KMeans(n_clusters=x)\r\n",
        "  kmeans.fit(data)\r\n",
        "  Inertia_score.append(kmeans.inertia_)\r\n"
      ],
      "execution_count": 122,
      "outputs": []
    },
    {
      "cell_type": "code",
      "metadata": {
        "colab": {
          "base_uri": "https://localhost:8080/",
          "height": 283
        },
        "id": "CagXk_uCx1FE",
        "outputId": "3f336f4d-53a2-41fd-9cec-bb39b9798216"
      },
      "source": [
        "plt.plot(n_number,Inertia_score)\r\n",
        "plt.scatter(n_number,Inertia_score)"
      ],
      "execution_count": 123,
      "outputs": [
        {
          "output_type": "execute_result",
          "data": {
            "text/plain": [
              "<matplotlib.collections.PathCollection at 0x7f025f62dbe0>"
            ]
          },
          "metadata": {
            "tags": []
          },
          "execution_count": 123
        },
        {
          "output_type": "display_data",
          "data": {
            "image/png": "[encoded data removed]",
            "text/plain": [
              "<Figure size 432x288 with 1 Axes>"
            ]
          },
          "metadata": {
            "tags": [],
            "needs_background": "light"
          }
        }
      ]
    },
    {
      "cell_type": "markdown",
      "metadata": {
        "id": "Uc097LMM0r7G"
      },
      "source": [
        "If you look at the line plot, There is a break line in number 6 as the line coming into linear after that"
      ]
    },
    {
      "cell_type": "markdown",
      "metadata": {
        "id": "eJeKwqqv0r90"
      },
      "source": [
        "Using n = 6 for KMeans"
      ]
    },
    {
      "cell_type": "code",
      "metadata": {
        "id": "4h5xU6M304W5"
      },
      "source": [
        "km=KMeans(n_clusters=6)\r\n",
        "km=km.fit(data)\r\n",
        "data['Cluster']=km.predict(data)"
      ],
      "execution_count": 129,
      "outputs": []
    },
    {
      "cell_type": "code",
      "metadata": {
        "colab": {
          "base_uri": "https://localhost:8080/",
          "height": 447
        },
        "id": "Ogf4fzMa1Dy_",
        "outputId": "98458ab4-8b99-4ef9-ea5b-17fe3eaf09ab"
      },
      "source": [
        "data['Gender']=data['Gender'].replace(1,'Male')\r\n",
        "data['Gender']=data['Gender'].replace(0,'Female')\r\n",
        "data.groupby(['Cluster','Gender']).mean()"
      ],
      "execution_count": 133,
      "outputs": [
        {
          "output_type": "execute_result",
          "data": {
            "text/html": [
              "<div>\n",
              "<style scoped>\n",
              "    .dataframe tbody tr th:only-of-type {\n",
              "        vertical-align: middle;\n",
              "    }\n",
              "\n",
              "    .dataframe tbody tr th {\n",
              "        vertical-align: top;\n",
              "    }\n",
              "\n",
              "    .dataframe thead th {\n",
              "        text-align: right;\n",
              "    }\n",
              "</style>\n",
              "<table border=\"1\" class=\"dataframe\">\n",
              "  <thead>\n",
              "    <tr style=\"text-align: right;\">\n",
              "      <th></th>\n",
              "      <th></th>\n",
              "      <th>Age</th>\n",
              "      <th>Annual Income (k$)</th>\n",
              "      <th>Spending Score (1-100)</th>\n",
              "    </tr>\n",
              "    <tr>\n",
              "      <th>Cluster</th>\n",
              "      <th>Gender</th>\n",
              "      <th></th>\n",
              "      <th></th>\n",
              "      <th></th>\n",
              "    </tr>\n",
              "  </thead>\n",
              "  <tbody>\n",
              "    <tr>\n",
              "      <th rowspan=\"2\" valign=\"top\">0</th>\n",
              "      <th>Female</th>\n",
              "      <td>44.600000</td>\n",
              "      <td>92.333333</td>\n",
              "      <td>21.600000</td>\n",
              "    </tr>\n",
              "    <tr>\n",
              "      <th>Male</th>\n",
              "      <td>39.500000</td>\n",
              "      <td>85.150000</td>\n",
              "      <td>14.050000</td>\n",
              "    </tr>\n",
              "    <tr>\n",
              "      <th rowspan=\"2\" valign=\"top\">1</th>\n",
              "      <th>Female</th>\n",
              "      <td>54.080000</td>\n",
              "      <td>53.240000</td>\n",
              "      <td>49.520000</td>\n",
              "    </tr>\n",
              "    <tr>\n",
              "      <th>Male</th>\n",
              "      <td>59.315789</td>\n",
              "      <td>54.315789</td>\n",
              "      <td>49.210526</td>\n",
              "    </tr>\n",
              "    <tr>\n",
              "      <th rowspan=\"2\" valign=\"top\">2</th>\n",
              "      <th>Female</th>\n",
              "      <td>25.461538</td>\n",
              "      <td>25.692308</td>\n",
              "      <td>80.538462</td>\n",
              "    </tr>\n",
              "    <tr>\n",
              "      <th>Male</th>\n",
              "      <td>25.000000</td>\n",
              "      <td>25.777778</td>\n",
              "      <td>77.666667</td>\n",
              "    </tr>\n",
              "    <tr>\n",
              "      <th rowspan=\"2\" valign=\"top\">3</th>\n",
              "      <th>Female</th>\n",
              "      <td>32.190476</td>\n",
              "      <td>86.047619</td>\n",
              "      <td>81.666667</td>\n",
              "    </tr>\n",
              "    <tr>\n",
              "      <th>Male</th>\n",
              "      <td>33.277778</td>\n",
              "      <td>87.111111</td>\n",
              "      <td>82.666667</td>\n",
              "    </tr>\n",
              "    <tr>\n",
              "      <th rowspan=\"2\" valign=\"top\">4</th>\n",
              "      <th>Female</th>\n",
              "      <td>41.538462</td>\n",
              "      <td>26.538462</td>\n",
              "      <td>20.692308</td>\n",
              "    </tr>\n",
              "    <tr>\n",
              "      <th>Male</th>\n",
              "      <td>48.333333</td>\n",
              "      <td>24.666667</td>\n",
              "      <td>19.666667</td>\n",
              "    </tr>\n",
              "    <tr>\n",
              "      <th rowspan=\"2\" valign=\"top\">5</th>\n",
              "      <th>Female</th>\n",
              "      <td>27.960000</td>\n",
              "      <td>57.360000</td>\n",
              "      <td>47.120000</td>\n",
              "    </tr>\n",
              "    <tr>\n",
              "      <th>Male</th>\n",
              "      <td>25.153846</td>\n",
              "      <td>55.307692</td>\n",
              "      <td>53.000000</td>\n",
              "    </tr>\n",
              "  </tbody>\n",
              "</table>\n",
              "</div>"
            ],
            "text/plain": [
              "                      Age  Annual Income (k$)  Spending Score (1-100)\n",
              "Cluster Gender                                                       \n",
              "0       Female  44.600000           92.333333               21.600000\n",
              "        Male    39.500000           85.150000               14.050000\n",
              "1       Female  54.080000           53.240000               49.520000\n",
              "        Male    59.315789           54.315789               49.210526\n",
              "2       Female  25.461538           25.692308               80.538462\n",
              "        Male    25.000000           25.777778               77.666667\n",
              "3       Female  32.190476           86.047619               81.666667\n",
              "        Male    33.277778           87.111111               82.666667\n",
              "4       Female  41.538462           26.538462               20.692308\n",
              "        Male    48.333333           24.666667               19.666667\n",
              "5       Female  27.960000           57.360000               47.120000\n",
              "        Male    25.153846           55.307692               53.000000"
            ]
          },
          "metadata": {
            "tags": []
          },
          "execution_count": 133
        }
      ]
    },
    {
      "cell_type": "markdown",
      "metadata": {
        "id": "2ZrjHLuS1eFC"
      },
      "source": [
        "Now, if we look at the data and ignore the gender because the different are small enough, we can conclude the 6 Cluster are:\r\n",
        "\r\n",
        "\r\n",
        "1.   Cluster 0: Age 40 with High Income but Small Spending\r\n",
        "2.   Cluster 1: Age 50+ with Middle Income and Middle Spending\r\n",
        "1.   Cluster 2: Age 25 with Small Income but High Spending\r\n",
        "2.   Cluster 3: age 30 with High Income and High Spending\r\n",
        "1.   Cluster 4: age 40 with Small Income and Small Spending\r\n",
        "2.   Cluster 5: Age 25 with Middle Income and Middle Spending\r\n",
        "\r\n",
        "\r\n",
        "\r\n",
        "\r\n",
        "\r\n"
      ]
    },
    {
      "cell_type": "markdown",
      "metadata": {
        "id": "qrVMSSNF3kfr"
      },
      "source": [
        "From this data, Age 25-30 actually spending big number regardless their income. while 40+ spend the same as their income or less than the income"
      ]
    },
    {
      "cell_type": "markdown",
      "metadata": {
        "id": "IP96o6AA35Rd"
      },
      "source": [
        "### Agglomerative Clustering"
      ]
    },
    {
      "cell_type": "code",
      "metadata": {
        "id": "jt9vQnRc38vC"
      },
      "source": [
        "data2=pd.read_csv('/content/Mall_Customers.csv')\r\n",
        "data2=data2.drop(columns='CustomerID',axis=1)\r\n",
        "data2['Gender']=data2['Gender'].replace('Male',1)\r\n",
        "data2['Gender']=data2['Gender'].replace('Female',0)\r\n",
        "agg=AgglomerativeClustering(n_clusters=6)\r\n",
        "data2['Cluster']=agg.fit_predict(data2)"
      ],
      "execution_count": 139,
      "outputs": []
    },
    {
      "cell_type": "code",
      "metadata": {
        "colab": {
          "base_uri": "https://localhost:8080/",
          "height": 447
        },
        "id": "mjK7oDFY4Lhq",
        "outputId": "407395c3-ee87-48d5-8c30-c618ef519c58"
      },
      "source": [
        "data2['Gender']=data2['Gender'].replace(1,'Male')\r\n",
        "data2['Gender']=data2['Gender'].replace(0,'Female')\r\n",
        "data2.groupby(['Cluster','Gender']).mean()"
      ],
      "execution_count": 141,
      "outputs": [
        {
          "output_type": "execute_result",
          "data": {
            "text/html": [
              "<div>\n",
              "<style scoped>\n",
              "    .dataframe tbody tr th:only-of-type {\n",
              "        vertical-align: middle;\n",
              "    }\n",
              "\n",
              "    .dataframe tbody tr th {\n",
              "        vertical-align: top;\n",
              "    }\n",
              "\n",
              "    .dataframe thead th {\n",
              "        text-align: right;\n",
              "    }\n",
              "</style>\n",
              "<table border=\"1\" class=\"dataframe\">\n",
              "  <thead>\n",
              "    <tr style=\"text-align: right;\">\n",
              "      <th></th>\n",
              "      <th></th>\n",
              "      <th>Age</th>\n",
              "      <th>Annual Income (k$)</th>\n",
              "      <th>Spending Score (1-100)</th>\n",
              "    </tr>\n",
              "    <tr>\n",
              "      <th>Cluster</th>\n",
              "      <th>Gender</th>\n",
              "      <th></th>\n",
              "      <th></th>\n",
              "      <th></th>\n",
              "    </tr>\n",
              "  </thead>\n",
              "  <tbody>\n",
              "    <tr>\n",
              "      <th rowspan=\"2\" valign=\"top\">0</th>\n",
              "      <th>Female</th>\n",
              "      <td>44.600000</td>\n",
              "      <td>92.333333</td>\n",
              "      <td>21.600000</td>\n",
              "    </tr>\n",
              "    <tr>\n",
              "      <th>Male</th>\n",
              "      <td>39.500000</td>\n",
              "      <td>85.150000</td>\n",
              "      <td>14.050000</td>\n",
              "    </tr>\n",
              "    <tr>\n",
              "      <th rowspan=\"2\" valign=\"top\">1</th>\n",
              "      <th>Female</th>\n",
              "      <td>50.300000</td>\n",
              "      <td>55.700000</td>\n",
              "      <td>49.500000</td>\n",
              "    </tr>\n",
              "    <tr>\n",
              "      <th>Male</th>\n",
              "      <td>57.380952</td>\n",
              "      <td>54.285714</td>\n",
              "      <td>49.428571</td>\n",
              "    </tr>\n",
              "    <tr>\n",
              "      <th rowspan=\"2\" valign=\"top\">2</th>\n",
              "      <th>Female</th>\n",
              "      <td>32.190476</td>\n",
              "      <td>86.047619</td>\n",
              "      <td>81.666667</td>\n",
              "    </tr>\n",
              "    <tr>\n",
              "      <th>Male</th>\n",
              "      <td>33.277778</td>\n",
              "      <td>87.111111</td>\n",
              "      <td>82.666667</td>\n",
              "    </tr>\n",
              "    <tr>\n",
              "      <th rowspan=\"2\" valign=\"top\">3</th>\n",
              "      <th>Female</th>\n",
              "      <td>25.583333</td>\n",
              "      <td>24.583333</td>\n",
              "      <td>81.833333</td>\n",
              "    </tr>\n",
              "    <tr>\n",
              "      <th>Male</th>\n",
              "      <td>23.750000</td>\n",
              "      <td>25.500000</td>\n",
              "      <td>79.750000</td>\n",
              "    </tr>\n",
              "    <tr>\n",
              "      <th rowspan=\"2\" valign=\"top\">4</th>\n",
              "      <th>Female</th>\n",
              "      <td>43.214286</td>\n",
              "      <td>27.357143</td>\n",
              "      <td>21.714286</td>\n",
              "    </tr>\n",
              "    <tr>\n",
              "      <th>Male</th>\n",
              "      <td>48.333333</td>\n",
              "      <td>24.666667</td>\n",
              "      <td>19.666667</td>\n",
              "    </tr>\n",
              "    <tr>\n",
              "      <th rowspan=\"2\" valign=\"top\">5</th>\n",
              "      <th>Female</th>\n",
              "      <td>25.050000</td>\n",
              "      <td>54.750000</td>\n",
              "      <td>48.050000</td>\n",
              "    </tr>\n",
              "    <tr>\n",
              "      <th>Male</th>\n",
              "      <td>23.666667</td>\n",
              "      <td>53.250000</td>\n",
              "      <td>53.916667</td>\n",
              "    </tr>\n",
              "  </tbody>\n",
              "</table>\n",
              "</div>"
            ],
            "text/plain": [
              "                      Age  Annual Income (k$)  Spending Score (1-100)\n",
              "Cluster Gender                                                       \n",
              "0       Female  44.600000           92.333333               21.600000\n",
              "        Male    39.500000           85.150000               14.050000\n",
              "1       Female  50.300000           55.700000               49.500000\n",
              "        Male    57.380952           54.285714               49.428571\n",
              "2       Female  32.190476           86.047619               81.666667\n",
              "        Male    33.277778           87.111111               82.666667\n",
              "3       Female  25.583333           24.583333               81.833333\n",
              "        Male    23.750000           25.500000               79.750000\n",
              "4       Female  43.214286           27.357143               21.714286\n",
              "        Male    48.333333           24.666667               19.666667\n",
              "5       Female  25.050000           54.750000               48.050000\n",
              "        Male    23.666667           53.250000               53.916667"
            ]
          },
          "metadata": {
            "tags": []
          },
          "execution_count": 141
        }
      ]
    },
    {
      "cell_type": "markdown",
      "metadata": {
        "id": "MiDyFCym5Op2"
      },
      "source": [
        "Its same as KMeans model"
      ]
    },
    {
      "cell_type": "markdown",
      "metadata": {
        "id": "GGY81kTA5Uo0"
      },
      "source": [
        "### DBSCAN"
      ]
    },
    {
      "cell_type": "code",
      "metadata": {
        "id": "urXLkKns5gss"
      },
      "source": [
        "data3=pd.read_csv('/content/Mall_Customers.csv')\r\n",
        "data3=data3.drop(columns='CustomerID',axis=1)\r\n",
        "data3['Gender']=data3['Gender'].replace('Male',1)\r\n",
        "data3['Gender']=data3['Gender'].replace('Female',0)\r\n",
        "db=DBSCAN(eps=3,min_samples=3)\r\n",
        "data3['Cluster']=db.fit_predict(data3)"
      ],
      "execution_count": 142,
      "outputs": []
    },
    {
      "cell_type": "code",
      "metadata": {
        "colab": {
          "base_uri": "https://localhost:8080/",
          "height": 325
        },
        "id": "MQ_51x4a4ez3",
        "outputId": "fa67ca2d-29ee-46ad-837e-fac3b41e62ef"
      },
      "source": [
        "data3['Gender']=data3['Gender'].replace(1,'Male')\r\n",
        "data3['Gender']=data3['Gender'].replace(0,'Female')\r\n",
        "data3.groupby(['Cluster','Gender']).mean()"
      ],
      "execution_count": 143,
      "outputs": [
        {
          "output_type": "execute_result",
          "data": {
            "text/html": [
              "<div>\n",
              "<style scoped>\n",
              "    .dataframe tbody tr th:only-of-type {\n",
              "        vertical-align: middle;\n",
              "    }\n",
              "\n",
              "    .dataframe tbody tr th {\n",
              "        vertical-align: top;\n",
              "    }\n",
              "\n",
              "    .dataframe thead th {\n",
              "        text-align: right;\n",
              "    }\n",
              "</style>\n",
              "<table border=\"1\" class=\"dataframe\">\n",
              "  <thead>\n",
              "    <tr style=\"text-align: right;\">\n",
              "      <th></th>\n",
              "      <th></th>\n",
              "      <th>Age</th>\n",
              "      <th>Annual Income (k$)</th>\n",
              "      <th>Spending Score (1-100)</th>\n",
              "    </tr>\n",
              "    <tr>\n",
              "      <th>Cluster</th>\n",
              "      <th>Gender</th>\n",
              "      <th></th>\n",
              "      <th></th>\n",
              "      <th></th>\n",
              "    </tr>\n",
              "  </thead>\n",
              "  <tbody>\n",
              "    <tr>\n",
              "      <th rowspan=\"2\" valign=\"top\">-1</th>\n",
              "      <th>Female</th>\n",
              "      <td>38.018692</td>\n",
              "      <td>59.074766</td>\n",
              "      <td>51.663551</td>\n",
              "    </tr>\n",
              "    <tr>\n",
              "      <th>Male</th>\n",
              "      <td>39.345238</td>\n",
              "      <td>62.214286</td>\n",
              "      <td>48.500000</td>\n",
              "    </tr>\n",
              "    <tr>\n",
              "      <th rowspan=\"2\" valign=\"top\">0</th>\n",
              "      <th>Female</th>\n",
              "      <td>48.000000</td>\n",
              "      <td>61.000000</td>\n",
              "      <td>47.500000</td>\n",
              "    </tr>\n",
              "    <tr>\n",
              "      <th>Male</th>\n",
              "      <td>48.000000</td>\n",
              "      <td>60.000000</td>\n",
              "      <td>49.000000</td>\n",
              "    </tr>\n",
              "    <tr>\n",
              "      <th rowspan=\"2\" valign=\"top\">1</th>\n",
              "      <th>Female</th>\n",
              "      <td>66.000000</td>\n",
              "      <td>63.000000</td>\n",
              "      <td>50.000000</td>\n",
              "    </tr>\n",
              "    <tr>\n",
              "      <th>Male</th>\n",
              "      <td>65.500000</td>\n",
              "      <td>63.000000</td>\n",
              "      <td>50.000000</td>\n",
              "    </tr>\n",
              "    <tr>\n",
              "      <th rowspan=\"2\" valign=\"top\">2</th>\n",
              "      <th>Female</th>\n",
              "      <td>18.500000</td>\n",
              "      <td>65.000000</td>\n",
              "      <td>49.000000</td>\n",
              "    </tr>\n",
              "    <tr>\n",
              "      <th>Male</th>\n",
              "      <td>19.000000</td>\n",
              "      <td>64.000000</td>\n",
              "      <td>46.000000</td>\n",
              "    </tr>\n",
              "  </tbody>\n",
              "</table>\n",
              "</div>"
            ],
            "text/plain": [
              "                      Age  Annual Income (k$)  Spending Score (1-100)\n",
              "Cluster Gender                                                       \n",
              "-1      Female  38.018692           59.074766               51.663551\n",
              "        Male    39.345238           62.214286               48.500000\n",
              " 0      Female  48.000000           61.000000               47.500000\n",
              "        Male    48.000000           60.000000               49.000000\n",
              " 1      Female  66.000000           63.000000               50.000000\n",
              "        Male    65.500000           63.000000               50.000000\n",
              " 2      Female  18.500000           65.000000               49.000000\n",
              "        Male    19.000000           64.000000               46.000000"
            ]
          },
          "metadata": {
            "tags": []
          },
          "execution_count": 143
        }
      ]
    },
    {
      "cell_type": "markdown",
      "metadata": {
        "id": "3t2SVF6p59_6"
      },
      "source": [
        "While DBSCAN has 4 cluster:\r\n",
        "\r\n",
        "\r\n",
        "1.   Cluster -1 Age 30-40 with middle income and middle spending\r\n",
        "2.   Cluster 0 Age with 40-50 with middle income and middle spending\r\n",
        "1.   Cluster 1 Age 60+ middle income and middle spending\r\n",
        "2.   Cluster 2 Age 20-30 middle income and middle spending\r\n",
        "\r\n",
        "\r\n",
        "\r\n"
      ]
    },
    {
      "cell_type": "markdown",
      "metadata": {
        "id": "BYHmLjXaFT81"
      },
      "source": [
        "DBSCAN can cluster it well for Age but the income and spending are almost the same for all cluster"
      ]
    },
    {
      "cell_type": "markdown",
      "metadata": {
        "id": "ejhmakqmFzJ2"
      },
      "source": [
        "Change the eps and min_sample will give different result, for example:"
      ]
    },
    {
      "cell_type": "code",
      "metadata": {
        "colab": {
          "base_uri": "https://localhost:8080/",
          "height": 877
        },
        "id": "sibez8-0528N",
        "outputId": "295b4138-97a8-4b59-cb50-0db328836539"
      },
      "source": [
        "data3=pd.read_csv('/content/Mall_Customers.csv')\r\n",
        "data3=data3.drop(columns='CustomerID',axis=1)\r\n",
        "data3['Gender']=data3['Gender'].replace('Male',1)\r\n",
        "data3['Gender']=data3['Gender'].replace('Female',0)\r\n",
        "db=DBSCAN(eps=5,min_samples=3)\r\n",
        "data3['Cluster']=db.fit_predict(data3)\r\n",
        "\r\n",
        "data3['Gender']=data3['Gender'].replace(1,'Male')\r\n",
        "data3['Gender']=data3['Gender'].replace(0,'Female')\r\n",
        "data3.groupby(['Cluster','Gender']).mean()"
      ],
      "execution_count": 145,
      "outputs": [
        {
          "output_type": "execute_result",
          "data": {
            "text/html": [
              "<div>\n",
              "<style scoped>\n",
              "    .dataframe tbody tr th:only-of-type {\n",
              "        vertical-align: middle;\n",
              "    }\n",
              "\n",
              "    .dataframe tbody tr th {\n",
              "        vertical-align: top;\n",
              "    }\n",
              "\n",
              "    .dataframe thead th {\n",
              "        text-align: right;\n",
              "    }\n",
              "</style>\n",
              "<table border=\"1\" class=\"dataframe\">\n",
              "  <thead>\n",
              "    <tr style=\"text-align: right;\">\n",
              "      <th></th>\n",
              "      <th></th>\n",
              "      <th>Age</th>\n",
              "      <th>Annual Income (k$)</th>\n",
              "      <th>Spending Score (1-100)</th>\n",
              "    </tr>\n",
              "    <tr>\n",
              "      <th>Cluster</th>\n",
              "      <th>Gender</th>\n",
              "      <th></th>\n",
              "      <th></th>\n",
              "      <th></th>\n",
              "    </tr>\n",
              "  </thead>\n",
              "  <tbody>\n",
              "    <tr>\n",
              "      <th rowspan=\"2\" valign=\"top\">-1</th>\n",
              "      <th>Female</th>\n",
              "      <td>38.054795</td>\n",
              "      <td>59.849315</td>\n",
              "      <td>49.958904</td>\n",
              "    </tr>\n",
              "    <tr>\n",
              "      <th>Male</th>\n",
              "      <td>39.557377</td>\n",
              "      <td>65.442623</td>\n",
              "      <td>45.295082</td>\n",
              "    </tr>\n",
              "    <tr>\n",
              "      <th rowspan=\"2\" valign=\"top\">0</th>\n",
              "      <th>Female</th>\n",
              "      <td>23.000000</td>\n",
              "      <td>17.666667</td>\n",
              "      <td>76.666667</td>\n",
              "    </tr>\n",
              "    <tr>\n",
              "      <th>Male</th>\n",
              "      <td>21.500000</td>\n",
              "      <td>17.500000</td>\n",
              "      <td>80.000000</td>\n",
              "    </tr>\n",
              "    <tr>\n",
              "      <th rowspan=\"2\" valign=\"top\">1</th>\n",
              "      <th>Female</th>\n",
              "      <td>50.000000</td>\n",
              "      <td>42.250000</td>\n",
              "      <td>50.500000</td>\n",
              "    </tr>\n",
              "    <tr>\n",
              "      <th>Male</th>\n",
              "      <td>53.000000</td>\n",
              "      <td>46.000000</td>\n",
              "      <td>46.000000</td>\n",
              "    </tr>\n",
              "    <tr>\n",
              "      <th>2</th>\n",
              "      <th>Male</th>\n",
              "      <td>18.666667</td>\n",
              "      <td>47.333333</td>\n",
              "      <td>57.666667</td>\n",
              "    </tr>\n",
              "    <tr>\n",
              "      <th rowspan=\"2\" valign=\"top\">3</th>\n",
              "      <th>Female</th>\n",
              "      <td>65.000000</td>\n",
              "      <td>48.333333</td>\n",
              "      <td>49.666667</td>\n",
              "    </tr>\n",
              "    <tr>\n",
              "      <th>Male</th>\n",
              "      <td>64.666667</td>\n",
              "      <td>49.166667</td>\n",
              "      <td>51.000000</td>\n",
              "    </tr>\n",
              "    <tr>\n",
              "      <th rowspan=\"2\" valign=\"top\">4</th>\n",
              "      <th>Female</th>\n",
              "      <td>23.250000</td>\n",
              "      <td>56.250000</td>\n",
              "      <td>53.500000</td>\n",
              "    </tr>\n",
              "    <tr>\n",
              "      <th>Male</th>\n",
              "      <td>25.333333</td>\n",
              "      <td>58.666667</td>\n",
              "      <td>53.666667</td>\n",
              "    </tr>\n",
              "    <tr>\n",
              "      <th rowspan=\"2\" valign=\"top\">5</th>\n",
              "      <th>Female</th>\n",
              "      <td>48.200000</td>\n",
              "      <td>57.600000</td>\n",
              "      <td>45.400000</td>\n",
              "    </tr>\n",
              "    <tr>\n",
              "      <th>Male</th>\n",
              "      <td>48.000000</td>\n",
              "      <td>57.000000</td>\n",
              "      <td>47.500000</td>\n",
              "    </tr>\n",
              "    <tr>\n",
              "      <th rowspan=\"2\" valign=\"top\">6</th>\n",
              "      <th>Female</th>\n",
              "      <td>20.000000</td>\n",
              "      <td>63.400000</td>\n",
              "      <td>47.000000</td>\n",
              "    </tr>\n",
              "    <tr>\n",
              "      <th>Male</th>\n",
              "      <td>19.000000</td>\n",
              "      <td>61.333333</td>\n",
              "      <td>45.333333</td>\n",
              "    </tr>\n",
              "    <tr>\n",
              "      <th rowspan=\"2\" valign=\"top\">7</th>\n",
              "      <th>Female</th>\n",
              "      <td>66.000000</td>\n",
              "      <td>63.000000</td>\n",
              "      <td>50.000000</td>\n",
              "    </tr>\n",
              "    <tr>\n",
              "      <th>Male</th>\n",
              "      <td>65.500000</td>\n",
              "      <td>63.000000</td>\n",
              "      <td>50.000000</td>\n",
              "    </tr>\n",
              "    <tr>\n",
              "      <th>8</th>\n",
              "      <th>Female</th>\n",
              "      <td>38.666667</td>\n",
              "      <td>63.666667</td>\n",
              "      <td>40.666667</td>\n",
              "    </tr>\n",
              "    <tr>\n",
              "      <th rowspan=\"2\" valign=\"top\">9</th>\n",
              "      <th>Female</th>\n",
              "      <td>49.500000</td>\n",
              "      <td>66.000000</td>\n",
              "      <td>58.000000</td>\n",
              "    </tr>\n",
              "    <tr>\n",
              "      <th>Male</th>\n",
              "      <td>49.000000</td>\n",
              "      <td>62.000000</td>\n",
              "      <td>56.000000</td>\n",
              "    </tr>\n",
              "    <tr>\n",
              "      <th rowspan=\"2\" valign=\"top\">10</th>\n",
              "      <th>Female</th>\n",
              "      <td>31.600000</td>\n",
              "      <td>75.800000</td>\n",
              "      <td>73.600000</td>\n",
              "    </tr>\n",
              "    <tr>\n",
              "      <th>Male</th>\n",
              "      <td>32.000000</td>\n",
              "      <td>73.000000</td>\n",
              "      <td>73.000000</td>\n",
              "    </tr>\n",
              "    <tr>\n",
              "      <th rowspan=\"2\" valign=\"top\">11</th>\n",
              "      <th>Female</th>\n",
              "      <td>30.500000</td>\n",
              "      <td>74.500000</td>\n",
              "      <td>87.500000</td>\n",
              "    </tr>\n",
              "    <tr>\n",
              "      <th>Male</th>\n",
              "      <td>33.000000</td>\n",
              "      <td>76.500000</td>\n",
              "      <td>91.500000</td>\n",
              "    </tr>\n",
              "    <tr>\n",
              "      <th rowspan=\"2\" valign=\"top\">12</th>\n",
              "      <th>Female</th>\n",
              "      <td>45.500000</td>\n",
              "      <td>78.000000</td>\n",
              "      <td>18.000000</td>\n",
              "    </tr>\n",
              "    <tr>\n",
              "      <th>Male</th>\n",
              "      <td>43.000000</td>\n",
              "      <td>78.000000</td>\n",
              "      <td>17.000000</td>\n",
              "    </tr>\n",
              "  </tbody>\n",
              "</table>\n",
              "</div>"
            ],
            "text/plain": [
              "                      Age  Annual Income (k$)  Spending Score (1-100)\n",
              "Cluster Gender                                                       \n",
              "-1      Female  38.054795           59.849315               49.958904\n",
              "        Male    39.557377           65.442623               45.295082\n",
              " 0      Female  23.000000           17.666667               76.666667\n",
              "        Male    21.500000           17.500000               80.000000\n",
              " 1      Female  50.000000           42.250000               50.500000\n",
              "        Male    53.000000           46.000000               46.000000\n",
              " 2      Male    18.666667           47.333333               57.666667\n",
              " 3      Female  65.000000           48.333333               49.666667\n",
              "        Male    64.666667           49.166667               51.000000\n",
              " 4      Female  23.250000           56.250000               53.500000\n",
              "        Male    25.333333           58.666667               53.666667\n",
              " 5      Female  48.200000           57.600000               45.400000\n",
              "        Male    48.000000           57.000000               47.500000\n",
              " 6      Female  20.000000           63.400000               47.000000\n",
              "        Male    19.000000           61.333333               45.333333\n",
              " 7      Female  66.000000           63.000000               50.000000\n",
              "        Male    65.500000           63.000000               50.000000\n",
              " 8      Female  38.666667           63.666667               40.666667\n",
              " 9      Female  49.500000           66.000000               58.000000\n",
              "        Male    49.000000           62.000000               56.000000\n",
              " 10     Female  31.600000           75.800000               73.600000\n",
              "        Male    32.000000           73.000000               73.000000\n",
              " 11     Female  30.500000           74.500000               87.500000\n",
              "        Male    33.000000           76.500000               91.500000\n",
              " 12     Female  45.500000           78.000000               18.000000\n",
              "        Male    43.000000           78.000000               17.000000"
            ]
          },
          "metadata": {
            "tags": []
          },
          "execution_count": 145
        }
      ]
    },
    {
      "cell_type": "markdown",
      "metadata": {
        "id": "6eKDfGONGNZJ"
      },
      "source": [
        "Finding the best eps and min_sample are the key"
      ]
    },
    {
      "cell_type": "markdown",
      "metadata": {
        "id": "mAwStlRdGSX8"
      },
      "source": [
        "### Mean Shift"
      ]
    },
    {
      "cell_type": "code",
      "metadata": {
        "colab": {
          "base_uri": "https://localhost:8080/",
          "height": 877
        },
        "id": "RbdbrIBQF8kM",
        "outputId": "2ac7578a-3899-481d-9be1-279c2adaa4f3"
      },
      "source": [
        "data4=pd.read_csv('/content/Mall_Customers.csv')\r\n",
        "data4=data4.drop(columns='CustomerID',axis=1)\r\n",
        "data4['Gender']=data4['Gender'].replace('Male',1)\r\n",
        "data4['Gender']=data4['Gender'].replace('Female',0)\r\n",
        "ms=MeanShift(bandwidth=4)\r\n",
        "data4['Cluster']=db.fit_predict(data4)\r\n",
        "\r\n",
        "data4['Gender']=data3['Gender'].replace(1,'Male')\r\n",
        "data4['Gender']=data3['Gender'].replace(0,'Female')\r\n",
        "data4.groupby(['Cluster','Gender']).mean()"
      ],
      "execution_count": 149,
      "outputs": [
        {
          "output_type": "execute_result",
          "data": {
            "text/html": [
              "<div>\n",
              "<style scoped>\n",
              "    .dataframe tbody tr th:only-of-type {\n",
              "        vertical-align: middle;\n",
              "    }\n",
              "\n",
              "    .dataframe tbody tr th {\n",
              "        vertical-align: top;\n",
              "    }\n",
              "\n",
              "    .dataframe thead th {\n",
              "        text-align: right;\n",
              "    }\n",
              "</style>\n",
              "<table border=\"1\" class=\"dataframe\">\n",
              "  <thead>\n",
              "    <tr style=\"text-align: right;\">\n",
              "      <th></th>\n",
              "      <th></th>\n",
              "      <th>Age</th>\n",
              "      <th>Annual Income (k$)</th>\n",
              "      <th>Spending Score (1-100)</th>\n",
              "    </tr>\n",
              "    <tr>\n",
              "      <th>Cluster</th>\n",
              "      <th>Gender</th>\n",
              "      <th></th>\n",
              "      <th></th>\n",
              "      <th></th>\n",
              "    </tr>\n",
              "  </thead>\n",
              "  <tbody>\n",
              "    <tr>\n",
              "      <th rowspan=\"2\" valign=\"top\">-1</th>\n",
              "      <th>Female</th>\n",
              "      <td>38.054795</td>\n",
              "      <td>59.849315</td>\n",
              "      <td>49.958904</td>\n",
              "    </tr>\n",
              "    <tr>\n",
              "      <th>Male</th>\n",
              "      <td>39.557377</td>\n",
              "      <td>65.442623</td>\n",
              "      <td>45.295082</td>\n",
              "    </tr>\n",
              "    <tr>\n",
              "      <th rowspan=\"2\" valign=\"top\">0</th>\n",
              "      <th>Female</th>\n",
              "      <td>23.000000</td>\n",
              "      <td>17.666667</td>\n",
              "      <td>76.666667</td>\n",
              "    </tr>\n",
              "    <tr>\n",
              "      <th>Male</th>\n",
              "      <td>21.500000</td>\n",
              "      <td>17.500000</td>\n",
              "      <td>80.000000</td>\n",
              "    </tr>\n",
              "    <tr>\n",
              "      <th rowspan=\"2\" valign=\"top\">1</th>\n",
              "      <th>Female</th>\n",
              "      <td>50.000000</td>\n",
              "      <td>42.250000</td>\n",
              "      <td>50.500000</td>\n",
              "    </tr>\n",
              "    <tr>\n",
              "      <th>Male</th>\n",
              "      <td>53.000000</td>\n",
              "      <td>46.000000</td>\n",
              "      <td>46.000000</td>\n",
              "    </tr>\n",
              "    <tr>\n",
              "      <th>2</th>\n",
              "      <th>Male</th>\n",
              "      <td>18.666667</td>\n",
              "      <td>47.333333</td>\n",
              "      <td>57.666667</td>\n",
              "    </tr>\n",
              "    <tr>\n",
              "      <th rowspan=\"2\" valign=\"top\">3</th>\n",
              "      <th>Female</th>\n",
              "      <td>65.000000</td>\n",
              "      <td>48.333333</td>\n",
              "      <td>49.666667</td>\n",
              "    </tr>\n",
              "    <tr>\n",
              "      <th>Male</th>\n",
              "      <td>64.666667</td>\n",
              "      <td>49.166667</td>\n",
              "      <td>51.000000</td>\n",
              "    </tr>\n",
              "    <tr>\n",
              "      <th rowspan=\"2\" valign=\"top\">4</th>\n",
              "      <th>Female</th>\n",
              "      <td>23.250000</td>\n",
              "      <td>56.250000</td>\n",
              "      <td>53.500000</td>\n",
              "    </tr>\n",
              "    <tr>\n",
              "      <th>Male</th>\n",
              "      <td>25.333333</td>\n",
              "      <td>58.666667</td>\n",
              "      <td>53.666667</td>\n",
              "    </tr>\n",
              "    <tr>\n",
              "      <th rowspan=\"2\" valign=\"top\">5</th>\n",
              "      <th>Female</th>\n",
              "      <td>48.200000</td>\n",
              "      <td>57.600000</td>\n",
              "      <td>45.400000</td>\n",
              "    </tr>\n",
              "    <tr>\n",
              "      <th>Male</th>\n",
              "      <td>48.000000</td>\n",
              "      <td>57.000000</td>\n",
              "      <td>47.500000</td>\n",
              "    </tr>\n",
              "    <tr>\n",
              "      <th rowspan=\"2\" valign=\"top\">6</th>\n",
              "      <th>Female</th>\n",
              "      <td>20.000000</td>\n",
              "      <td>63.400000</td>\n",
              "      <td>47.000000</td>\n",
              "    </tr>\n",
              "    <tr>\n",
              "      <th>Male</th>\n",
              "      <td>19.000000</td>\n",
              "      <td>61.333333</td>\n",
              "      <td>45.333333</td>\n",
              "    </tr>\n",
              "    <tr>\n",
              "      <th rowspan=\"2\" valign=\"top\">7</th>\n",
              "      <th>Female</th>\n",
              "      <td>66.000000</td>\n",
              "      <td>63.000000</td>\n",
              "      <td>50.000000</td>\n",
              "    </tr>\n",
              "    <tr>\n",
              "      <th>Male</th>\n",
              "      <td>65.500000</td>\n",
              "      <td>63.000000</td>\n",
              "      <td>50.000000</td>\n",
              "    </tr>\n",
              "    <tr>\n",
              "      <th>8</th>\n",
              "      <th>Female</th>\n",
              "      <td>38.666667</td>\n",
              "      <td>63.666667</td>\n",
              "      <td>40.666667</td>\n",
              "    </tr>\n",
              "    <tr>\n",
              "      <th rowspan=\"2\" valign=\"top\">9</th>\n",
              "      <th>Female</th>\n",
              "      <td>49.500000</td>\n",
              "      <td>66.000000</td>\n",
              "      <td>58.000000</td>\n",
              "    </tr>\n",
              "    <tr>\n",
              "      <th>Male</th>\n",
              "      <td>49.000000</td>\n",
              "      <td>62.000000</td>\n",
              "      <td>56.000000</td>\n",
              "    </tr>\n",
              "    <tr>\n",
              "      <th rowspan=\"2\" valign=\"top\">10</th>\n",
              "      <th>Female</th>\n",
              "      <td>31.600000</td>\n",
              "      <td>75.800000</td>\n",
              "      <td>73.600000</td>\n",
              "    </tr>\n",
              "    <tr>\n",
              "      <th>Male</th>\n",
              "      <td>32.000000</td>\n",
              "      <td>73.000000</td>\n",
              "      <td>73.000000</td>\n",
              "    </tr>\n",
              "    <tr>\n",
              "      <th rowspan=\"2\" valign=\"top\">11</th>\n",
              "      <th>Female</th>\n",
              "      <td>30.500000</td>\n",
              "      <td>74.500000</td>\n",
              "      <td>87.500000</td>\n",
              "    </tr>\n",
              "    <tr>\n",
              "      <th>Male</th>\n",
              "      <td>33.000000</td>\n",
              "      <td>76.500000</td>\n",
              "      <td>91.500000</td>\n",
              "    </tr>\n",
              "    <tr>\n",
              "      <th rowspan=\"2\" valign=\"top\">12</th>\n",
              "      <th>Female</th>\n",
              "      <td>45.500000</td>\n",
              "      <td>78.000000</td>\n",
              "      <td>18.000000</td>\n",
              "    </tr>\n",
              "    <tr>\n",
              "      <th>Male</th>\n",
              "      <td>43.000000</td>\n",
              "      <td>78.000000</td>\n",
              "      <td>17.000000</td>\n",
              "    </tr>\n",
              "  </tbody>\n",
              "</table>\n",
              "</div>"
            ],
            "text/plain": [
              "                      Age  Annual Income (k$)  Spending Score (1-100)\n",
              "Cluster Gender                                                       \n",
              "-1      Female  38.054795           59.849315               49.958904\n",
              "        Male    39.557377           65.442623               45.295082\n",
              " 0      Female  23.000000           17.666667               76.666667\n",
              "        Male    21.500000           17.500000               80.000000\n",
              " 1      Female  50.000000           42.250000               50.500000\n",
              "        Male    53.000000           46.000000               46.000000\n",
              " 2      Male    18.666667           47.333333               57.666667\n",
              " 3      Female  65.000000           48.333333               49.666667\n",
              "        Male    64.666667           49.166667               51.000000\n",
              " 4      Female  23.250000           56.250000               53.500000\n",
              "        Male    25.333333           58.666667               53.666667\n",
              " 5      Female  48.200000           57.600000               45.400000\n",
              "        Male    48.000000           57.000000               47.500000\n",
              " 6      Female  20.000000           63.400000               47.000000\n",
              "        Male    19.000000           61.333333               45.333333\n",
              " 7      Female  66.000000           63.000000               50.000000\n",
              "        Male    65.500000           63.000000               50.000000\n",
              " 8      Female  38.666667           63.666667               40.666667\n",
              " 9      Female  49.500000           66.000000               58.000000\n",
              "        Male    49.000000           62.000000               56.000000\n",
              " 10     Female  31.600000           75.800000               73.600000\n",
              "        Male    32.000000           73.000000               73.000000\n",
              " 11     Female  30.500000           74.500000               87.500000\n",
              "        Male    33.000000           76.500000               91.500000\n",
              " 12     Female  45.500000           78.000000               18.000000\n",
              "        Male    43.000000           78.000000               17.000000"
            ]
          },
          "metadata": {
            "tags": []
          },
          "execution_count": 149
        }
      ]
    },
    {
      "cell_type": "markdown",
      "metadata": {
        "id": "oKXqdSBjLy-2"
      },
      "source": [
        "Actuallu using mean shift resulting in 14 cluster, but if we look at the detail, it give us much more interesting fact"
      ]
    },
    {
      "cell_type": "markdown",
      "metadata": {
        "id": "yNpRr4wuL8TE"
      },
      "source": [
        "# Conclution"
      ]
    },
    {
      "cell_type": "markdown",
      "metadata": {
        "id": "3_yuVIRoMBR1"
      },
      "source": [
        "There are other model to use for Clustering. In this project using 4 model try to cluster and find the different.\r\n",
        "Actually from this data using KMeans give the most interesting data. But Mean Shifting resulting 12 cluster maybe there are some hidden fact that need to explore again.\r\n",
        "As I try using clustering, its hard to choose the parameter unlike supervised learning we know the result before predict. Unsupervised learning give us the new result.\r\n",
        "\r\n",
        "Next project will be using the same dataset but exploring the 4 model and tuning the parameter to give us the best fact finding and customer segmentation"
      ]
    },
    {
      "cell_type": "code",
      "metadata": {
        "id": "1OjlOHAbKeyR"
      },
      "source": [
        ""
      ],
      "execution_count": null,
      "outputs": []
    }
  ]
}